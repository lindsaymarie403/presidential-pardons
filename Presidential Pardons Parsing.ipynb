{
 "cells": [
  {
   "cell_type": "markdown",
   "metadata": {},
   "source": [
    "Writing a parser to access presidential pardon statistics published here by the Department of Justice here: https://www.justice.gov/pardon/clemency-statistics. I'm interested in how Trump's early pardons have diverged from recent presidents' clemency patterns. Thanks to https://medium.com/@ageitgey/quick-tip-the-easiest-way-to-grab-data-out-of-a-web-page-in-python-7153cecfca58 for the help."
   ]
  },
  {
   "cell_type": "code",
   "execution_count": 127,
   "metadata": {},
   "outputs": [],
   "source": [
    "# import libraries\n",
    "import pandas as pd"
   ]
  },
  {
   "cell_type": "code",
   "execution_count": 128,
   "metadata": {},
   "outputs": [],
   "source": [
    "# get all tables\n",
    "tables = pd.read_html(\"https://www.justice.gov/pardon/clemency-statistics\")"
   ]
  },
  {
   "cell_type": "code",
   "execution_count": 129,
   "metadata": {},
   "outputs": [
    {
     "name": "stdout",
     "output_type": "stream",
     "text": [
      "                0    1    2    3    4  5  6  7  8  9    10    11\n",
      "2  1977 (8.5 mos.)  368  106  292  271  0  1  0  1  0  118  49.0\n"
     ]
    }
   ],
   "source": [
    "# PARDONS YEAR 1\n",
    "# CARTER\n",
    "carter = tables[14]\n",
    "carter = carter[2:] # take out first two rows with dirty column names\n",
    "carter = carter[:1] # take out all but first year, for comparison to trump\n",
    "print(carter)"
   ]
  },
  {
   "cell_type": "code",
   "execution_count": 130,
   "metadata": {},
   "outputs": [
    {
     "name": "stdout",
     "output_type": "stream",
     "text": [
      "              year pendingP pendingC receivedP receivedC grantedP grantedC  \\\n",
      "2  1977 (8.5 mos.)      368      106       292       271        0        1   \n",
      "\n",
      "  grantedR deniedP deniedC closedP  closedC  \n",
      "2        0       1       0     118     49.0  \n"
     ]
    }
   ],
   "source": [
    "# add clean column names\n",
    "carter.columns = ['year','pendingP','pendingC','receivedP','receivedC','grantedP','grantedC','grantedR','deniedP','deniedC','closedP','closedC']\n",
    "print(carter)"
   ]
  },
  {
   "cell_type": "code",
   "execution_count": 131,
   "metadata": {},
   "outputs": [
    {
     "name": "stdout",
     "output_type": "stream",
     "text": [
      "              year pendingP pendingC receivedP receivedC grantedP grantedC  \\\n",
      "2  1977 (8.5 mos.)      368      106       292       271        0        1   \n",
      "\n",
      "  grantedR deniedP deniedC closedP  closedC president  \n",
      "2        0       1       0     118     49.0    carter  \n"
     ]
    }
   ],
   "source": [
    "# add president name so we can merge all tables together\n",
    "carter['president'] = 'carter'\n",
    "print(carter)"
   ]
  },
  {
   "cell_type": "code",
   "execution_count": 132,
   "metadata": {},
   "outputs": [
    {
     "name": "stdout",
     "output_type": "stream",
     "text": [
      "              year pendingP pendingC receivedP receivedC grantedP grantedC  \\\n",
      "2  1981 (8.5 mos.)      358      119       220       137        2        0   \n",
      "\n",
      "  grantedR deniedP deniedC closedP  closedC president  \n",
      "2        0       0       0      66     87.0    reagan  \n"
     ]
    }
   ],
   "source": [
    "# REAGAN\n",
    "reagan = tables[15]\n",
    "reagan = reagan[2:] # take out first two rows with dirty column names\n",
    "reagan = reagan[:1] # take out all but first year, for comparison to trump\n",
    "reagan.columns = ['year','pendingP','pendingC','receivedP','receivedC','grantedP','grantedC','grantedR','deniedP','deniedC','closedP','closedC']\n",
    "reagan['president'] = 'reagan'\n",
    "print(reagan)"
   ]
  },
  {
   "cell_type": "code",
   "execution_count": 133,
   "metadata": {},
   "outputs": [
    {
     "name": "stdout",
     "output_type": "stream",
     "text": [
      "              year pendingP pendingC receivedP receivedC grantedP grantedC  \\\n",
      "2  1989 (8.5 mos.)      488      186       115       130        9        1   \n",
      "\n",
      "  grantedR deniedP deniedC closedP  closedC president  \n",
      "2        0     122      22      41    112.0    hwbush  \n"
     ]
    }
   ],
   "source": [
    "# H.W. BUSH\n",
    "hwbush = tables[16]\n",
    "hwbush = hwbush[2:] # take out first two rows with dirty column names\n",
    "hwbush = hwbush[:1] # take out all but first year, for comparison to trump\n",
    "hwbush.columns = ['year','pendingP','pendingC','receivedP','receivedC','grantedP','grantedC','grantedR','deniedP','deniedC','closedP','closedC']\n",
    "hwbush['president'] = 'hwbush'\n",
    "print(hwbush)"
   ]
  },
  {
   "cell_type": "code",
   "execution_count": 134,
   "metadata": {},
   "outputs": [
    {
     "name": "stdout",
     "output_type": "stream",
     "text": [
      "              year pendingP pendingC receivedP receivedC grantedP grantedC  \\\n",
      "2  1993 (8.5 mos.)      260      192       172       526        0        0   \n",
      "\n",
      "  grantedR deniedP deniedC closedP  closedC president  \n",
      "2        0       1       2      33     53.0   clinton  \n"
     ]
    }
   ],
   "source": [
    "# CLINTON\n",
    "clinton = tables[17]\n",
    "clinton = clinton[2:] # take out first two rows with dirty column names\n",
    "clinton = clinton[:1] # take out all but first year, for comparison to trump\n",
    "clinton.columns = ['year','pendingP','pendingC','receivedP','receivedC','grantedP','grantedC','grantedR','deniedP','deniedC','closedP','closedC']\n",
    "clinton['president'] = 'clinton'\n",
    "print(clinton)"
   ]
  },
  {
   "cell_type": "code",
   "execution_count": 135,
   "metadata": {},
   "outputs": [
    {
     "name": "stdout",
     "output_type": "stream",
     "text": [
      "              year pendingP pendingC receivedP receivedC grantedP grantedC  \\\n",
      "2  2001 (8.5 mos.)      923     2063       110       548        0        0   \n",
      "\n",
      "  grantedR deniedP deniedC closedP  closedC president  \n",
      "2        0       0       1      45    277.0      bush  \n"
     ]
    }
   ],
   "source": [
    "# W. BUSH\n",
    "bush = tables[18]\n",
    "bush = bush[2:] # take out first two rows with dirty column names\n",
    "bush = bush[:1] # take out all but first year, for comparison to trump\n",
    "bush.columns = ['year','pendingP','pendingC','receivedP','receivedC','grantedP','grantedC','grantedR','deniedP','deniedC','closedP','closedC']\n",
    "bush['president'] = 'bush'\n",
    "print(bush)"
   ]
  },
  {
   "cell_type": "code",
   "execution_count": 136,
   "metadata": {},
   "outputs": [
    {
     "name": "stdout",
     "output_type": "stream",
     "text": [
      "              year pendingP pendingC receivedP receivedC grantedP grantedC  \\\n",
      "2  2009 (8.5 mos.)     1040      903       232      1086        0        0   \n",
      "\n",
      "  grantedR deniedP deniedC closedP  closedC president  \n",
      "2        0       0       0     132    120.0     obama  \n"
     ]
    }
   ],
   "source": [
    "# OBAMA\n",
    "obama = tables[19]\n",
    "obama = obama[2:] # take out first two rows with dirty column names\n",
    "obama = obama[:1] # take out all but first year, for comparison to trump\n",
    "obama.columns = ['year','pendingP','pendingC','receivedP','receivedC','grantedP','grantedC','grantedR','deniedP','deniedC','closedP','closedC']\n",
    "obama['president'] = 'obama'\n",
    "print(obama)"
   ]
  },
  {
   "cell_type": "code",
   "execution_count": 137,
   "metadata": {},
   "outputs": [
    {
     "name": "stdout",
     "output_type": "stream",
     "text": [
      "              year pendingP pendingC receivedP receivedC grantedP grantedC  \\\n",
      "2  2017 (8.5 mos.)     2010     9361       422      1729        1        0   \n",
      "\n",
      "  grantedR deniedP deniedC closedP  closedC president  \n",
      "2        0       0       0     161   2158.0     trump  \n"
     ]
    }
   ],
   "source": [
    "# TRUMP\n",
    "trump = tables[20]\n",
    "trump = trump[2:] # take out first two rows with dirty column names\n",
    "trump = trump[:1] # take out all but first year, for comparison to trump\n",
    "trump = trump.drop([3,4], axis=1) # drop extra columns in only trump's table\n",
    "trump.columns = ['year','pendingP','pendingC','receivedP','receivedC','grantedP','grantedC','grantedR','deniedP','deniedC','closedP','closedC']\n",
    "trump['president'] = 'trump'\n",
    "print(trump)"
   ]
  },
  {
   "cell_type": "code",
   "execution_count": 138,
   "metadata": {},
   "outputs": [
    {
     "name": "stdout",
     "output_type": "stream",
     "text": [
      "              year pendingP pendingC receivedP receivedC grantedP grantedC  \\\n",
      "2  1977 (8.5 mos.)      368      106       292       271        0        1   \n",
      "2  1981 (8.5 mos.)      358      119       220       137        2        0   \n",
      "2  1989 (8.5 mos.)      488      186       115       130        9        1   \n",
      "2  1993 (8.5 mos.)      260      192       172       526        0        0   \n",
      "2  2001 (8.5 mos.)      923     2063       110       548        0        0   \n",
      "2  2009 (8.5 mos.)     1040      903       232      1086        0        0   \n",
      "2  2017 (8.5 mos.)     2010     9361       422      1729        1        0   \n",
      "\n",
      "  grantedR deniedP deniedC closedP  closedC president  \n",
      "2        0       1       0     118     49.0    carter  \n",
      "2        0       0       0      66     87.0    reagan  \n",
      "2        0     122      22      41    112.0    hwbush  \n",
      "2        0       1       2      33     53.0   clinton  \n",
      "2        0       0       1      45    277.0      bush  \n",
      "2        0       0       0     132    120.0     obama  \n",
      "2        0       0       0     161   2158.0     trump  \n"
     ]
    }
   ],
   "source": [
    "pardons_yr1 = pd.concat([carter,reagan,hwbush,clinton,bush,obama,trump])\n",
    "print(pardons_yr1)"
   ]
  },
  {
   "cell_type": "code",
   "execution_count": 175,
   "metadata": {},
   "outputs": [
    {
     "name": "stdout",
     "output_type": "stream",
     "text": [
      "    year  pendingP  pendingC  receivedP  receivedC  grantedP  grantedC  \\\n",
      "2  total       909       433        671        533       162         4   \n",
      "\n",
      "   grantedR  deniedP  deniedC  closedP  closedC president  \n",
      "2                308      409      192       95    carter  \n"
     ]
    }
   ],
   "source": [
    "# PARDONS YEARS 1 + 2\n",
    "# CARTER\n",
    "carter2 = tables[14]\n",
    "carter2 = carter2[2:] # take out first two rows with dirty column names\n",
    "carter2 = carter2[:2]\n",
    "\n",
    "carter2.columns = ['year','pendingP','pendingC','receivedP','receivedC','grantedP','grantedC','grantedR','deniedP','deniedC','closedP','closedC']\n",
    "\n",
    "carter2[['pendingP','pendingC','receivedP','receivedC','grantedP','grantedC','grantedR','deniedP','deniedC','closedP','closedC']] = carter2[['pendingP','pendingC','receivedP','receivedC','grantedP','grantedC','grantedR','deniedP','deniedC','closedP','closedC']].apply(pd.to_numeric)\n",
    "carter2 = carter2.append(carter2.sum(numeric_only=True), ignore_index=True)\n",
    "carter2.at[2, 'year'] = 'total'\n",
    "\n",
    "carter2['president'] = 'carter'\n",
    "\n",
    "carter_sum = carter2[2:]\n",
    "\n",
    "print(carter_sum)"
   ]
  },
  {
   "cell_type": "code",
   "execution_count": 176,
   "metadata": {},
   "outputs": [
    {
     "name": "stdout",
     "output_type": "stream",
     "text": [
      "    year  pendingP  pendingC  receivedP  receivedC  grantedP  grantedC  \\\n",
      "2  total       868       288        503        316        85         3   \n",
      "\n",
      "   grantedR  deniedP  deniedC  closedP  closedC president  \n",
      "2                258      123      147      172    reagan  \n"
     ]
    }
   ],
   "source": [
    "# REAGAN\n",
    "reagan2 = tables[15]\n",
    "reagan2 = reagan2[2:] # take out first two rows with dirty column names\n",
    "reagan2 = reagan2[:2]\n",
    "\n",
    "reagan2.columns = ['year','pendingP','pendingC','receivedP','receivedC','grantedP','grantedC','grantedR','deniedP','deniedC','closedP','closedC']\n",
    "\n",
    "reagan2[['pendingP','pendingC','receivedP','receivedC','grantedP','grantedC','grantedR','deniedP','deniedC','closedP','closedC']] = reagan2[['pendingP','pendingC','receivedP','receivedC','grantedP','grantedC','grantedR','deniedP','deniedC','closedP','closedC']].apply(pd.to_numeric)\n",
    "reagan2 = reagan2.append(reagan2.sum(numeric_only=True), ignore_index=True)\n",
    "reagan2.at[2, 'year'] = 'total'\n",
    "\n",
    "reagan2['president'] = 'reagan'\n",
    "\n",
    "reagan_sum = reagan2[2:]\n",
    "\n",
    "print(reagan_sum)"
   ]
  },
  {
   "cell_type": "code",
   "execution_count": 181,
   "metadata": {},
   "outputs": [
    {
     "name": "stdout",
     "output_type": "stream",
     "text": [
      "    year  pendingP  pendingC  receivedP  receivedC  grantedP  grantedC  \\\n",
      "2  total       920       370        321        278         9         1   \n",
      "\n",
      "   grantedR  deniedP  deniedC  closedP  closedC president  \n",
      "2         0      216       44      100      226    hwbush  \n"
     ]
    }
   ],
   "source": [
    "# H.W. BUSH\n",
    "hwbush2 = tables[16]\n",
    "hwbush2 = hwbush2[2:] # take out first two rows with dirty column names\n",
    "hwbush2 = hwbush2[:2]\n",
    "\n",
    "hwbush2.columns = ['year','pendingP','pendingC','receivedP','receivedC','grantedP','grantedC','grantedR','deniedP','deniedC','closedP','closedC']\n",
    "\n",
    "hwbush2[['pendingP','pendingC','receivedP','receivedC','grantedP','grantedC','grantedR','deniedP','deniedC','closedP','closedC']] = hwbush2[['pendingP','pendingC','receivedP','receivedC','grantedP','grantedC','grantedR','deniedP','deniedC','closedP','closedC']].apply(pd.to_numeric)\n",
    "hwbush2 = hwbush2.append(hwbush2.sum(), ignore_index=True)\n",
    "hwbush2.at[2, 'year'] = 'total'\n",
    "\n",
    "hwbush2['president'] = 'hwbush'\n",
    "\n",
    "hwbush_sum = hwbush2[2:]\n",
    "\n",
    "print(hwbush_sum)"
   ]
  },
  {
   "cell_type": "code",
   "execution_count": 182,
   "metadata": {},
   "outputs": [
    {
     "name": "stdout",
     "output_type": "stream",
     "text": [
      "    year  pendingP  pendingC  receivedP  receivedC  grantedP  grantedC  \\\n",
      "2  total       652       848        400       1106         0         0   \n",
      "\n",
      "   grantedR  deniedP  deniedC  closedP  closedC president  \n",
      "2         0      176      402      107      189   clinton  \n"
     ]
    }
   ],
   "source": [
    "# CLINTON\n",
    "clinton2 = tables[17]\n",
    "clinton2 = clinton2[2:] # take out first two rows with dirty column names\n",
    "clinton2 = clinton2[:2]\n",
    "\n",
    "clinton2.columns = ['year','pendingP','pendingC','receivedP','receivedC','grantedP','grantedC','grantedR','deniedP','deniedC','closedP','closedC']\n",
    "\n",
    "clinton2[['pendingP','pendingC','receivedP','receivedC','grantedP','grantedC','grantedR','deniedP','deniedC','closedP','closedC']] = clinton2[['pendingP','pendingC','receivedP','receivedC','grantedP','grantedC','grantedR','deniedP','deniedC','closedP','closedC']].apply(pd.to_numeric)\n",
    "clinton2 = clinton2.append(clinton2.sum(), ignore_index=True)\n",
    "clinton2.at[2, 'year'] = 'total'\n",
    "\n",
    "clinton2['president'] = 'clinton'\n",
    "\n",
    "clinton_sum = clinton2[2:]\n",
    "\n",
    "print(clinton_sum)"
   ]
  },
  {
   "cell_type": "code",
   "execution_count": 183,
   "metadata": {},
   "outputs": [
    {
     "name": "stdout",
     "output_type": "stream",
     "text": [
      "    year  pendingP  pendingC  receivedP  receivedC  grantedP  grantedC  \\\n",
      "2  total      1911      4395        262       1644         0         0   \n",
      "\n",
      "   grantedR  deniedP  deniedC  closedP  closedC president  \n",
      "2         0      519     1467       98      517      bush  \n"
     ]
    }
   ],
   "source": [
    "# W. BUSH\n",
    "bush2 = tables[18]\n",
    "bush2 = bush2[2:] # take out first two rows with dirty column names\n",
    "bush2 = bush2[:2]\n",
    "\n",
    "bush2.columns = ['year','pendingP','pendingC','receivedP','receivedC','grantedP','grantedC','grantedR','deniedP','deniedC','closedP','closedC']\n",
    "\n",
    "bush2[['pendingP','pendingC','receivedP','receivedC','grantedP','grantedC','grantedR','deniedP','deniedC','closedP','closedC']] = bush2[['pendingP','pendingC','receivedP','receivedC','grantedP','grantedC','grantedR','deniedP','deniedC','closedP','closedC']].apply(pd.to_numeric)\n",
    "bush2 = bush2.append(bush2.sum(), ignore_index=True)\n",
    "bush2.at[2, 'year'] = 'total'\n",
    "\n",
    "bush2['president'] = 'bush'\n",
    "\n",
    "bush_sum = bush2[2:]\n",
    "\n",
    "print(bush_sum)"
   ]
  },
  {
   "cell_type": "code",
   "execution_count": 184,
   "metadata": {},
   "outputs": [
    {
     "name": "stdout",
     "output_type": "stream",
     "text": [
      "    year  pendingP  pendingC  receivedP  receivedC  grantedP  grantedC  \\\n",
      "2  total      2180      2772        494       2988         0         0   \n",
      "\n",
      "   grantedR  deniedP  deniedC  closedP  closedC president  \n",
      "2         0        0        0      248       46     obama  \n"
     ]
    }
   ],
   "source": [
    "# OBAMA\n",
    "obama2 = tables[19]\n",
    "obama2 = obama2[2:] # take out first two rows with dirty column names\n",
    "obama2 = obama2[:2]\n",
    "\n",
    "obama2.columns = ['year','pendingP','pendingC','receivedP','receivedC','grantedP','grantedC','grantedR','deniedP','deniedC','closedP','closedC']\n",
    "\n",
    "obama2[['pendingP','pendingC','receivedP','receivedC','grantedP','grantedC','grantedR','deniedP','deniedC','closedP','closedC']] = obama2[['pendingP','pendingC','receivedP','receivedC','grantedP','grantedC','grantedR','deniedP','deniedC','closedP','closedC']].apply(pd.to_numeric)\n",
    "obama2 = obama2.append(obama2.sum(), ignore_index=True)\n",
    "obama2.at[2, 'year'] = 'total'\n",
    "\n",
    "obama2['president'] = 'obama'\n",
    "\n",
    "obama_sum = obama2[2:]\n",
    "\n",
    "print(obama_sum)"
   ]
  },
  {
   "cell_type": "code",
   "execution_count": 190,
   "metadata": {},
   "outputs": [
    {
     "name": "stdout",
     "output_type": "stream",
     "text": [
      "    year  pendingP  pendingC  receivedP  receivedC  grantedP  grantedC  \\\n",
      "2  total      4281     18293        675       2722         7         4   \n",
      "\n",
      "   grantedR  deniedP  deniedC  closedP  closedC president  \n",
      "2         0       82       98      455     3005     trump  \n"
     ]
    }
   ],
   "source": [
    "# TRUMP\n",
    "trump2 = tables[20]\n",
    "trump2 = trump2[2:] # take out first two rows with dirty column names\n",
    "trump2 = trump2[:2] # take out all but first year, for comparison to trump\n",
    "trump2 = trump2.drop([3,4], axis=1) # drop extra columns in only trump's table\n",
    "\n",
    "trump2.columns = ['year','pendingP','pendingC','receivedP','receivedC','grantedP','grantedC','grantedR','deniedP','deniedC','closedP','closedC']\n",
    "\n",
    "trump2[['pendingP','pendingC','receivedP','receivedC','grantedP','grantedC','grantedR','deniedP','deniedC','closedP','closedC']] = trump2[['pendingP','pendingC','receivedP','receivedC','grantedP','grantedC','grantedR','deniedP','deniedC','closedP','closedC']].apply(pd.to_numeric)\n",
    "trump2 = trump2.append(trump2.sum(), ignore_index=True)\n",
    "trump2.at[2, 'year'] = 'total'\n",
    "\n",
    "trump2['president'] = 'trump'\n",
    "\n",
    "trump_sum = trump2[2:]\n",
    "\n",
    "print(trump_sum)"
   ]
  },
  {
   "cell_type": "code",
   "execution_count": 192,
   "metadata": {},
   "outputs": [
    {
     "name": "stdout",
     "output_type": "stream",
     "text": [
      "    year  pendingP  pendingC  receivedP  receivedC  grantedP  grantedC  \\\n",
      "2  total       909       433        671        533       162         4   \n",
      "2  total       868       288        503        316        85         3   \n",
      "2  total       920       370        321        278         9         1   \n",
      "2  total       652       848        400       1106         0         0   \n",
      "2  total      1911      4395        262       1644         0         0   \n",
      "2  total      2180      2772        494       2988         0         0   \n",
      "2  total      4281     18293        675       2722         7         4   \n",
      "\n",
      "   grantedR  deniedP  deniedC  closedP  closedC president  \n",
      "2                308      409      192       95    carter  \n",
      "2                258      123      147      172    reagan  \n",
      "2                216       44      100      226    hwbush  \n",
      "2                176      402      107      189   clinton  \n",
      "2                519     1467       98      517      bush  \n",
      "2                  0        0      248      460     obama  \n",
      "2                 82       98      455     3005     trump  \n"
     ]
    }
   ],
   "source": [
    "pardons_yr12 = pd.concat([carter_sum,reagan_sum,hwbush_sum,clinton_sum,bush_sum,obama_sum,trump_sum])\n",
    "print(pardons_yr12)"
   ]
  }
 ],
 "metadata": {
  "kernelspec": {
   "display_name": "Python 3",
   "language": "python",
   "name": "python3"
  },
  "language_info": {
   "codemirror_mode": {
    "name": "ipython",
    "version": 3
   },
   "file_extension": ".py",
   "mimetype": "text/x-python",
   "name": "python",
   "nbconvert_exporter": "python",
   "pygments_lexer": "ipython3",
   "version": "3.6.5"
  }
 },
 "nbformat": 4,
 "nbformat_minor": 2
}
