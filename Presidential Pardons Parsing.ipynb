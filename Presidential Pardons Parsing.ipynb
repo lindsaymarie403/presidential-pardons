{
 "cells": [
  {
   "cell_type": "markdown",
   "metadata": {},
   "source": [
    "Writing a parser to access presidential pardon statistics published here by the Department of Justice here: https://www.justice.gov/pardon/clemency-statistics. I'm interested in how Trump's early pardons have diverged from recent presidents' clemency patterns. Thanks to https://pypi.org/project/tabulate/ for the help."
   ]
  },
  {
   "cell_type": "code",
   "execution_count": 22,
   "metadata": {},
   "outputs": [],
   "source": [
    "# import libraries\n",
    "import pandas as pd\n",
    "import requests\n",
    "from bs4 import BeautifulSoup\n",
    "from tabulate import tabulate"
   ]
  },
  {
   "cell_type": "code",
   "execution_count": 29,
   "metadata": {},
   "outputs": [
    {
     "name": "stdout",
     "output_type": "stream",
     "text": [
      "+----+-------------+--------------------+---------------------+-------------------+-------------------+---------------------------------------+-----+-----+-----+\n",
      "|    | 0           | 1                  | 2                   | 3                 | 4                 | 5                                     |   6 |   7 |   8 |\n",
      "|----+-------------+--------------------+---------------------+-------------------+-------------------+---------------------------------------+-----+-----+-----|\n",
      "|  0 | Fiscal Year | Petitions  Pending | Petitions  Received | Petitions Granted | Petitions  Denied | Closed  Without  Presidential  Action | nan | nan | nan |\n",
      "|  1 | Pardon      | Commutation        | Respite             | Remission         | nan               | nan                                   | nan | nan | nan |\n",
      "|  2 | 1900        | 68                 | 677                 | 129               | 73                | 4                                     |  14 | 131 | 332 |\n",
      "|  3 | 1901        | 45                 | 796                 | 162               | 50                | 2                                     |  12 | 117 | 448 |\n",
      "+----+-------------+--------------------+---------------------+-------------------+-------------------+---------------------------------------+-----+-----+-----+\n"
     ]
    }
   ],
   "source": [
    "res = requests.get(\"https://www.justice.gov/pardon/clemency-statistics\")\n",
    "soup = BeautifulSoup(res.content,'lxml')\n",
    "table = soup.find_all('table')[0] \n",
    "df = pd.read_html(str(table))\n",
    "print( tabulate(df[0], headers='keys', tablefmt='psql') )"
   ]
  },
  {
   "cell_type": "code",
   "execution_count": null,
   "metadata": {},
   "outputs": [],
   "source": []
  },
  {
   "cell_type": "code",
   "execution_count": null,
   "metadata": {},
   "outputs": [],
   "source": []
  }
 ],
 "metadata": {
  "kernelspec": {
   "display_name": "Python 3",
   "language": "python",
   "name": "python3"
  },
  "language_info": {
   "codemirror_mode": {
    "name": "ipython",
    "version": 3
   },
   "file_extension": ".py",
   "mimetype": "text/x-python",
   "name": "python",
   "nbconvert_exporter": "python",
   "pygments_lexer": "ipython3",
   "version": "3.6.5"
  }
 },
 "nbformat": 4,
 "nbformat_minor": 2
}
