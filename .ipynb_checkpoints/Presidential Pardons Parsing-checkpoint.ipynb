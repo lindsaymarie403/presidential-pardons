{
 "cells": [
  {
   "cell_type": "markdown",
   "metadata": {},
   "source": [
    "Writing a parser to access presidential pardon statistics published here by the Department of Justice here: https://www.justice.gov/pardon/clemency-statistics. I'm interested in how Trump's early pardons have diverged from recent presidents' clemency patterns. Thanks to https://medium.com/@ageitgey/quick-tip-the-easiest-way-to-grab-data-out-of-a-web-page-in-python-7153cecfca58 for the help."
   ]
  },
  {
   "cell_type": "code",
   "execution_count": 79,
   "metadata": {},
   "outputs": [],
   "source": [
    "# import libraries\n",
    "import pandas as pd"
   ]
  },
  {
   "cell_type": "code",
   "execution_count": 80,
   "metadata": {},
   "outputs": [],
   "source": [
    "# get all tables\n",
    "tables = pd.read_html(\"https://www.justice.gov/pardon/clemency-statistics\")"
   ]
  },
  {
   "cell_type": "code",
   "execution_count": 81,
   "metadata": {},
   "outputs": [
    {
     "name": "stdout",
     "output_type": "stream",
     "text": [
      "                0    1    2    3    4    5   6  7    8    9    10     11\n",
      "2  1977 (8.5 mos.)  368  106  292  271    0   1  0    1    0  118   49.0\n",
      "3             1978  541  327  379  262  162   3  0  307  409   74   46.0\n",
      "4             1979  377  131  436  274  143  10  0  138  123   55  132.0\n",
      "5             1980  477  140  355  168  155   8  3  150  106  161   81.0\n",
      "6  1981 (3.5 mos.)  366  108  119   71   74   7  0   42   35   11   18.0\n"
     ]
    }
   ],
   "source": [
    "# CARTER\n",
    "carter = tables[14]\n",
    "carter = carter[2:] # take out first two rows with dirty column names\n",
    "carter = carter[:5] # take out totals -- we'll re-calculate later\n",
    "print(carter)"
   ]
  },
  {
   "cell_type": "code",
   "execution_count": 82,
   "metadata": {},
   "outputs": [
    {
     "name": "stdout",
     "output_type": "stream",
     "text": [
      "              year pendingP pendingC receivedP receivedC grantedP grantedC  \\\n",
      "2  1977 (8.5 mos.)      368      106       292       271        0        1   \n",
      "3             1978      541      327       379       262      162        3   \n",
      "4             1979      377      131       436       274      143       10   \n",
      "5             1980      477      140       355       168      155        8   \n",
      "6  1981 (3.5 mos.)      366      108       119        71       74        7   \n",
      "\n",
      "  grantedR deniedP deniedC closedP  closedC  \n",
      "2        0       1       0     118     49.0  \n",
      "3        0     307     409      74     46.0  \n",
      "4        0     138     123      55    132.0  \n",
      "5        3     150     106     161     81.0  \n",
      "6        0      42      35      11     18.0  \n"
     ]
    }
   ],
   "source": [
    "# add clean column names\n",
    "carter.columns = ['year','pendingP','pendingC','receivedP','receivedC','grantedP','grantedC','grantedR','deniedP','deniedC','closedP','closedC']\n",
    "print(carter)"
   ]
  },
  {
   "cell_type": "code",
   "execution_count": 83,
   "metadata": {},
   "outputs": [
    {
     "name": "stdout",
     "output_type": "stream",
     "text": [
      "              year pendingP pendingC receivedP receivedC grantedP grantedC  \\\n",
      "2  1977 (8.5 mos.)      368      106       292       271        0        1   \n",
      "3             1978      541      327       379       262      162        3   \n",
      "4             1979      377      131       436       274      143       10   \n",
      "5             1980      477      140       355       168      155        8   \n",
      "6  1981 (3.5 mos.)      366      108       119        71       74        7   \n",
      "\n",
      "  grantedR deniedP deniedC closedP  closedC president  \n",
      "2        0       1       0     118     49.0    carter  \n",
      "3        0     307     409      74     46.0    carter  \n",
      "4        0     138     123      55    132.0    carter  \n",
      "5        3     150     106     161     81.0    carter  \n",
      "6        0      42      35      11     18.0    carter  \n"
     ]
    }
   ],
   "source": [
    "# add president name so we can merge all tables together\n",
    "carter['president'] = 'carter'\n",
    "print(carter)"
   ]
  },
  {
   "cell_type": "code",
   "execution_count": 87,
   "metadata": {},
   "outputs": [
    {
     "name": "stdout",
     "output_type": "stream",
     "text": [
      "               year pendingP pendingC receivedP receivedC grantedP grantedC  \\\n",
      "2   1981 (8.5 mos.)      358      119       220       137        2        0   \n",
      "3              1982      510      169       283       179       83        3   \n",
      "4              1983      371      137       298       149       91        2   \n",
      "5              1984      409      147       289       158       37        5   \n",
      "6              1985      467      168       256       151       32        3   \n",
      "7              1986      540      188       222       140       55        0   \n",
      "8              1987      548      197       227       183       23        0   \n",
      "9              1988      588      236       236       148       38        0   \n",
      "10  1989 (3.5 mos.)      513      160        68        60       32        0   \n",
      "\n",
      "   grantedR deniedP deniedC closedP  closedC president  \n",
      "2         0       0       0      66     87.0    reagan  \n",
      "3         0     258     123      81     85.0    reagan  \n",
      "4         0      74      33      96    103.0    reagan  \n",
      "5         0      99      31      95    101.0    reagan  \n",
      "6         0      86      18      66    109.0    reagan  \n",
      "7         0      94      28      65    103.0    reagan  \n",
      "8         0     115      34      52    110.0    reagan  \n",
      "9         0     205      43      68    181.0    reagan  \n",
      "10        0      38       8      23     26.0    reagan  \n"
     ]
    }
   ],
   "source": [
    "# REAGAN\n",
    "reagan = tables[15]\n",
    "reagan = reagan[2:] # take out first two rows with dirty column names\n",
    "reagan = reagan[:9] # take out totals -- we'll re-calculate later\n",
    "reagan.columns = ['year','pendingP','pendingC','receivedP','receivedC','grantedP','grantedC','grantedR','deniedP','deniedC','closedP','closedC']\n",
    "reagan['president'] = 'reagan'\n",
    "print(reagan)"
   ]
  },
  {
   "cell_type": "code",
   "execution_count": 88,
   "metadata": {},
   "outputs": [
    {
     "name": "stdout",
     "output_type": "stream",
     "text": [
      "              year pendingP pendingC receivedP receivedC grantedP grantedC  \\\n",
      "2  1989 (8.5 mos.)      488      186       115       130        9        1   \n",
      "3             1990      432      184       206       148        0        0   \n",
      "4             1991      485      196       172       146       29        0   \n",
      "5             1992      180      109       174       205        0        0   \n",
      "6  1993 (3.5 mos.)      269      207        64       106       36        2   \n",
      "\n",
      "  grantedR deniedP deniedC closedP  closedC president  \n",
      "2        0     122      22      41    112.0    hwbush  \n",
      "3        0      94      22      59    114.0    hwbush  \n",
      "4        0     390     198      62     31.0    hwbush  \n",
      "5        0      45      76      40     31.0    hwbush  \n",
      "6        0      25     111      18      8.0    hwbush  \n"
     ]
    }
   ],
   "source": [
    "# H.W. BUSH\n",
    "hwbush = tables[16]\n",
    "hwbush = hwbush[2:] # take out first two rows with dirty column names\n",
    "hwbush = hwbush[:5] # take out totals -- we'll re-calculate later\n",
    "hwbush.columns = ['year','pendingP','pendingC','receivedP','receivedC','grantedP','grantedC','grantedR','deniedP','deniedC','closedP','closedC']\n",
    "hwbush['president'] = 'hwbush'\n",
    "print(hwbush)"
   ]
  },
  {
   "cell_type": "code",
   "execution_count": 91,
   "metadata": {},
   "outputs": [
    {
     "name": "stdout",
     "output_type": "stream",
     "text": [
      "              year pendingP pendingC receivedP receivedC grantedP grantedC  \\\n",
      "2  1993 (8.5 mos.)      260      192       172       526        0        0   \n",
      "3             1994      392      656       228       580        0        0   \n",
      "4             1995      371      700       209       403       53        3   \n",
      "5             1996      330      709       204       308        0        0   \n",
      "6             1997      438      736       209       476        0        0   \n",
      "7             1998      540      764       201       407       21        0   \n",
      "8             1999      628      884       261       748       34       12   \n",
      "\n",
      "  grantedR deniedP deniedC closedP  closedC president  \n",
      "2        0       1       2      33     53.0   clinton  \n",
      "3        0     175     400      74    136.0   clinton  \n",
      "4        0     158     258      39    133.0   clinton  \n",
      "5        0      72     139      23    137.0   clinton  \n",
      "6        0      69     325      38    123.0   clinton  \n",
      "7        0      54     126      37    161.0   clinton  \n",
      "8        2     126     231      36    208.0   clinton  \n"
     ]
    }
   ],
   "source": [
    "# CLINTON\n",
    "clinton = tables[17]\n",
    "clinton = clinton[2:9] # take out first two rows with dirty column names\n",
    "clinton = clinton[:9] # take out totals -- we'll re-calculate later\n",
    "clinton.columns = ['year','pendingP','pendingC','receivedP','receivedC','grantedP','grantedC','grantedR','deniedP','deniedC','closedP','closedC']\n",
    "clinton['president'] = 'clinton'\n",
    "print(clinton)"
   ]
  },
  {
   "cell_type": "code",
   "execution_count": 92,
   "metadata": {},
   "outputs": [
    {
     "name": "stdout",
     "output_type": "stream",
     "text": [
      "               year pendingP pendingC receivedP receivedC grantedP grantedC  \\\n",
      "2   2001 (8.5 mos.)      923     2063       110       548        0        0   \n",
      "3              2002      988     2332       152      1096        0        0   \n",
      "4              2003      565     1715       172       851        7        0   \n",
      "5              2004      659     1588       235       951       12        2   \n",
      "6              2005      733     1728       252       807       39        0   \n",
      "7              2006      822     1829       254       759       39        0   \n",
      "8              2007      729     1495       334       925       16        2   \n",
      "9              2008      972     2083       555      1770       44        2   \n",
      "10  2009 (3.5 mos.)      864     1309       434       869       32        5   \n",
      "\n",
      "   grantedR deniedP deniedC closedP  closedC president  \n",
      "2         0       0       1      45    277.0      bush  \n",
      "3         0     519    1466      53    240.0      bush  \n",
      "4         0      51     819      21    159.0      bush  \n",
      "5         0     108     632      42    178.0      bush  \n",
      "6         0      89     411      35    296.0      bush  \n",
      "7         0     255     779      53    315.0      bush  \n",
      "8         0       0       0      75    336.0      bush  \n",
      "9         0     513    2182     107    360.0      bush  \n",
      "10        0     194    1208      33     62.0      bush  \n"
     ]
    }
   ],
   "source": [
    "# W. BUSH\n",
    "bush = tables[18]\n",
    "bush = bush[2:] # take out first two rows with dirty column names\n",
    "bush = bush[:9] # take out totals -- we'll re-calculate later\n",
    "bush.columns = ['year','pendingP','pendingC','receivedP','receivedC','grantedP','grantedC','grantedR','deniedP','deniedC','closedP','closedC']\n",
    "bush['president'] = 'bush'\n",
    "print(bush)"
   ]
  },
  {
   "cell_type": "code",
   "execution_count": 93,
   "metadata": {},
   "outputs": [
    {
     "name": "stdout",
     "output_type": "stream",
     "text": [
      "               year pendingP pendingC receivedP receivedC grantedP grantedC  \\\n",
      "2   2009 (8.5 mos.)     1040      903       232      1086        0        0   \n",
      "3              2010     1140     1869       262      1902        0        0   \n",
      "4              2011     1285     3431       331      1585       17        0   \n",
      "5              2012      643     1523       383      1547        5        1   \n",
      "6              2013      826     2232       303      2370       17        0   \n",
      "7              2014      754     2785       273      6561       13        9   \n",
      "8              2015      824     7889       294      2999       12       79   \n",
      "9              2016      958     9115       997     11028        6      583   \n",
      "10  2017 (3.5 mos.)     1920    11355       320      4071      142     1043   \n",
      "\n",
      "   grantedR deniedP deniedC closedP  closedC president  \n",
      "2         0       0       0     132    120.0     obama  \n",
      "3         0       0       0     116    340.0     obama  \n",
      "4         0     872    3104      84    389.0     obama  \n",
      "5         0     147     689      48    148.0     obama  \n",
      "6         0     314    1577      44    240.0     obama  \n",
      "7         0     154    1226      36    222.0     obama  \n",
      "8         0     142     782       6    915.0     obama  \n",
      "9         0       0    6507      34   1701.0     obama  \n",
      "10        0      79    4864       8    177.0     obama  \n"
     ]
    }
   ],
   "source": [
    "# OBAMA\n",
    "obama = tables[19]\n",
    "obama = obama[2:] # take out first two rows with dirty column names\n",
    "obama = obama[:9] # take out totals -- we'll re-calculate later\n",
    "obama.columns = ['year','pendingP','pendingC','receivedP','receivedC','grantedP','grantedC','grantedR','deniedP','deniedC','closedP','closedC']\n",
    "obama['president'] = 'obama'\n",
    "print(obama)"
   ]
  },
  {
   "cell_type": "code",
   "execution_count": 102,
   "metadata": {},
   "outputs": [
    {
     "name": "stdout",
     "output_type": "stream",
     "text": [
      "              year pendingP pendingC receivedP receivedC grantedP grantedC  \\\n",
      "2  2017 (8.5 mos.)     2010     9361       422      1729        1        0   \n",
      "3    2018 (9 mos.)     2271     8932       253       993        6        4   \n",
      "\n",
      "  grantedR deniedP deniedC closedP  closedC president  \n",
      "2        0       0       0     161   2158.0     trump  \n",
      "3        0      82      98     294    847.0     trump  \n"
     ]
    }
   ],
   "source": [
    "# TRUMP\n",
    "trump = tables[20]\n",
    "trump = trump[2:] # take out first two rows with dirty column names\n",
    "trump = trump[:2] # take out totals -- we'll re-calculate later\n",
    "trump = trump.drop([3,4], axis=1) # drop extra columns in only trump's table\n",
    "trump.columns = ['year','pendingP','pendingC','receivedP','receivedC','grantedP','grantedC','grantedR','deniedP','deniedC','closedP','closedC']\n",
    "trump['president'] = 'trump'\n",
    "print(trump)"
   ]
  },
  {
   "cell_type": "code",
   "execution_count": 103,
   "metadata": {},
   "outputs": [
    {
     "name": "stdout",
     "output_type": "stream",
     "text": [
      "               year pendingP pendingC receivedP receivedC grantedP grantedC  \\\n",
      "2   1977 (8.5 mos.)      368      106       292       271        0        1   \n",
      "3              1978      541      327       379       262      162        3   \n",
      "4              1979      377      131       436       274      143       10   \n",
      "5              1980      477      140       355       168      155        8   \n",
      "6   1981 (3.5 mos.)      366      108       119        71       74        7   \n",
      "2   1981 (8.5 mos.)      358      119       220       137        2        0   \n",
      "3              1982      510      169       283       179       83        3   \n",
      "4              1983      371      137       298       149       91        2   \n",
      "5              1984      409      147       289       158       37        5   \n",
      "6              1985      467      168       256       151       32        3   \n",
      "7              1986      540      188       222       140       55        0   \n",
      "8              1987      548      197       227       183       23        0   \n",
      "9              1988      588      236       236       148       38        0   \n",
      "10  1989 (3.5 mos.)      513      160        68        60       32        0   \n",
      "2   1989 (8.5 mos.)      488      186       115       130        9        1   \n",
      "3              1990      432      184       206       148        0        0   \n",
      "4              1991      485      196       172       146       29        0   \n",
      "5              1992      180      109       174       205        0        0   \n",
      "6   1993 (3.5 mos.)      269      207        64       106       36        2   \n",
      "2   1993 (8.5 mos.)      260      192       172       526        0        0   \n",
      "3              1994      392      656       228       580        0        0   \n",
      "4              1995      371      700       209       403       53        3   \n",
      "5              1996      330      709       204       308        0        0   \n",
      "6              1997      438      736       209       476        0        0   \n",
      "7              1998      540      764       201       407       21        0   \n",
      "8              1999      628      884       261       748       34       12   \n",
      "2   2001 (8.5 mos.)      923     2063       110       548        0        0   \n",
      "3              2002      988     2332       152      1096        0        0   \n",
      "4              2003      565     1715       172       851        7        0   \n",
      "5              2004      659     1588       235       951       12        2   \n",
      "6              2005      733     1728       252       807       39        0   \n",
      "7              2006      822     1829       254       759       39        0   \n",
      "8              2007      729     1495       334       925       16        2   \n",
      "9              2008      972     2083       555      1770       44        2   \n",
      "10  2009 (3.5 mos.)      864     1309       434       869       32        5   \n",
      "2   2009 (8.5 mos.)     1040      903       232      1086        0        0   \n",
      "3              2010     1140     1869       262      1902        0        0   \n",
      "4              2011     1285     3431       331      1585       17        0   \n",
      "5              2012      643     1523       383      1547        5        1   \n",
      "6              2013      826     2232       303      2370       17        0   \n",
      "7              2014      754     2785       273      6561       13        9   \n",
      "8              2015      824     7889       294      2999       12       79   \n",
      "9              2016      958     9115       997     11028        6      583   \n",
      "10  2017 (3.5 mos.)     1920    11355       320      4071      142     1043   \n",
      "2   2017 (8.5 mos.)     2010     9361       422      1729        1        0   \n",
      "3     2018 (9 mos.)     2271     8932       253       993        6        4   \n",
      "\n",
      "   grantedR deniedP deniedC closedP  closedC president  \n",
      "2         0       1       0     118     49.0    carter  \n",
      "3         0     307     409      74     46.0    carter  \n",
      "4         0     138     123      55    132.0    carter  \n",
      "5         3     150     106     161     81.0    carter  \n",
      "6         0      42      35      11     18.0    carter  \n",
      "2         0       0       0      66     87.0    reagan  \n",
      "3         0     258     123      81     85.0    reagan  \n",
      "4         0      74      33      96    103.0    reagan  \n",
      "5         0      99      31      95    101.0    reagan  \n",
      "6         0      86      18      66    109.0    reagan  \n",
      "7         0      94      28      65    103.0    reagan  \n",
      "8         0     115      34      52    110.0    reagan  \n",
      "9         0     205      43      68    181.0    reagan  \n",
      "10        0      38       8      23     26.0    reagan  \n",
      "2         0     122      22      41    112.0    hwbush  \n",
      "3         0      94      22      59    114.0    hwbush  \n",
      "4         0     390     198      62     31.0    hwbush  \n",
      "5         0      45      76      40     31.0    hwbush  \n",
      "6         0      25     111      18      8.0    hwbush  \n",
      "2         0       1       2      33     53.0   clinton  \n",
      "3         0     175     400      74    136.0   clinton  \n",
      "4         0     158     258      39    133.0   clinton  \n",
      "5         0      72     139      23    137.0   clinton  \n",
      "6         0      69     325      38    123.0   clinton  \n",
      "7         0      54     126      37    161.0   clinton  \n",
      "8         2     126     231      36    208.0   clinton  \n",
      "2         0       0       1      45    277.0      bush  \n",
      "3         0     519    1466      53    240.0      bush  \n",
      "4         0      51     819      21    159.0      bush  \n",
      "5         0     108     632      42    178.0      bush  \n",
      "6         0      89     411      35    296.0      bush  \n",
      "7         0     255     779      53    315.0      bush  \n",
      "8         0       0       0      75    336.0      bush  \n",
      "9         0     513    2182     107    360.0      bush  \n",
      "10        0     194    1208      33     62.0      bush  \n",
      "2         0       0       0     132    120.0     obama  \n",
      "3         0       0       0     116    340.0     obama  \n",
      "4         0     872    3104      84    389.0     obama  \n",
      "5         0     147     689      48    148.0     obama  \n",
      "6         0     314    1577      44    240.0     obama  \n",
      "7         0     154    1226      36    222.0     obama  \n",
      "8         0     142     782       6    915.0     obama  \n",
      "9         0       0    6507      34   1701.0     obama  \n",
      "10        0      79    4864       8    177.0     obama  \n",
      "2         0       0       0     161   2158.0     trump  \n",
      "3         0      82      98     294    847.0     trump  \n"
     ]
    }
   ],
   "source": [
    "pardons = pd.concat([carter,reagan,hwbush,clinton,bush,obama,trump])\n",
    "print(pardons)"
   ]
  }
 ],
 "metadata": {
  "kernelspec": {
   "display_name": "Python 3",
   "language": "python",
   "name": "python3"
  },
  "language_info": {
   "codemirror_mode": {
    "name": "ipython",
    "version": 3
   },
   "file_extension": ".py",
   "mimetype": "text/x-python",
   "name": "python",
   "nbconvert_exporter": "python",
   "pygments_lexer": "ipython3",
   "version": "3.6.5"
  }
 },
 "nbformat": 4,
 "nbformat_minor": 2
}
