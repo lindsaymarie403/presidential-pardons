{
 "cells": [
  {
   "cell_type": "markdown",
   "metadata": {},
   "source": [
    "Writing a parser to access presidential pardon statistics published here by the Department of Justice here: https://www.justice.gov/pardon/clemency-statistics. I'm interested in how Trump's early pardons have diverged from recent presidents' clemency patterns."
   ]
  },
  {
   "cell_type": "code",
   "execution_count": 18,
   "metadata": {},
   "outputs": [],
   "source": [
    "# import libraries\n",
    "import pandas as pd"
   ]
  },
  {
   "cell_type": "code",
   "execution_count": 19,
   "metadata": {},
   "outputs": [],
   "source": [
    "# get all tables\n",
    "tables = pd.read_html(\"https://www.justice.gov/pardon/clemency-statistics\")"
   ]
  },
  {
   "cell_type": "code",
   "execution_count": 20,
   "metadata": {},
   "outputs": [
    {
     "name": "stdout",
     "output_type": "stream",
     "text": [
      "                0    1    2     3     4    5   6  7    8    9    10     11\n",
      "1                P    C    P     C     P    C   R  P    C    P    C    NaN\n",
      "2  1977 (8.5 mos.)  368  106   292   271    0   1  0    1    0  118   49.0\n",
      "3             1978  541  327   379   262  162   3  0  307  409   74   46.0\n",
      "4             1979  377  131   436   274  143  10  0  138  123   55  132.0\n",
      "5             1980  477  140   355   168  155   8  3  150  106  161   81.0\n",
      "6  1981 (3.5 mos.)  366  108   119    71   74   7  0   42   35   11   18.0\n",
      "7  Total (48 mos.)  NaN  NaN  1581  1046  534  29  3  638  673  419  326.0\n"
     ]
    }
   ],
   "source": [
    "carter = tables[14]\n",
    "carter = carter[1:]\n",
    "\n",
    "print(carter)"
   ]
  }
 ],
 "metadata": {
  "kernelspec": {
   "display_name": "Python 3",
   "language": "python",
   "name": "python3"
  },
  "language_info": {
   "codemirror_mode": {
    "name": "ipython",
    "version": 3
   },
   "file_extension": ".py",
   "mimetype": "text/x-python",
   "name": "python",
   "nbconvert_exporter": "python",
   "pygments_lexer": "ipython3",
   "version": "3.6.5"
  }
 },
 "nbformat": 4,
 "nbformat_minor": 2
}
