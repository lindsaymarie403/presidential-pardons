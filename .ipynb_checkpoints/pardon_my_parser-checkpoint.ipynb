{
 "cells": [
  {
   "cell_type": "markdown",
   "metadata": {},
   "source": [
    "Writing a parser to access presidential pardon statistics published here by the Department of Justice here: https://www.justice.gov/pardon/clemency-statistics. I'm interested in how Trump's early pardons have diverged from recent presidents' clemency patterns. Thanks to https://medium.com/@ageitgey/quick-tip-the-easiest-way-to-grab-data-out-of-a-web-page-in-python-7153cecfca58 for the help."
   ]
  },
  {
   "cell_type": "code",
   "execution_count": 2,
   "metadata": {},
   "outputs": [],
   "source": [
    "# import libraries\n",
    "import pandas as pd"
   ]
  },
  {
   "cell_type": "code",
   "execution_count": 3,
   "metadata": {},
   "outputs": [],
   "source": [
    "# get all tables\n",
    "tables = pd.read_html(\"https://www.justice.gov/pardon/clemency-statistics\")"
   ]
  },
  {
   "cell_type": "code",
   "execution_count": 4,
   "metadata": {},
   "outputs": [
    {
     "name": "stdout",
     "output_type": "stream",
     "text": [
      "                0    1    2    3    4  5  6  7  8  9    10    11\n",
      "2  1977 (8.5 mos.)  368  106  292  271  0  1  0  1  0  118  49.0\n"
     ]
    }
   ],
   "source": [
    "# PARDONS YEAR 1\n",
    "# CARTER\n",
    "carter = tables[14]\n",
    "carter = carter[2:] # take out first two rows with dirty column names\n",
    "carter = carter[:1] # take out all but first year, for comparison to trump\n",
    "print(carter)"
   ]
  },
  {
   "cell_type": "code",
   "execution_count": 5,
   "metadata": {},
   "outputs": [
    {
     "name": "stdout",
     "output_type": "stream",
     "text": [
      "              year pendingP pendingC receivedP receivedC grantedP grantedC  \\\n",
      "2  1977 (8.5 mos.)      368      106       292       271        0        1   \n",
      "\n",
      "  grantedR deniedP deniedC closedP  closedC  \n",
      "2        0       1       0     118     49.0  \n"
     ]
    }
   ],
   "source": [
    "# add clean column names\n",
    "carter.columns = ['year','pendingP','pendingC','receivedP','receivedC','grantedP','grantedC','grantedR','deniedP','deniedC','closedP','closedC']\n",
    "print(carter)"
   ]
  },
  {
   "cell_type": "code",
   "execution_count": 6,
   "metadata": {},
   "outputs": [
    {
     "name": "stdout",
     "output_type": "stream",
     "text": [
      "              year pendingP pendingC receivedP receivedC grantedP grantedC  \\\n",
      "2  1977 (8.5 mos.)      368      106       292       271        0        1   \n",
      "\n",
      "  grantedR deniedP deniedC closedP  closedC president  \n",
      "2        0       1       0     118     49.0    carter  \n"
     ]
    }
   ],
   "source": [
    "# add president name so we can merge all tables together\n",
    "carter['president'] = 'carter'\n",
    "print(carter)"
   ]
  },
  {
   "cell_type": "code",
   "execution_count": 7,
   "metadata": {},
   "outputs": [
    {
     "name": "stdout",
     "output_type": "stream",
     "text": [
      "              year pendingP pendingC receivedP receivedC grantedP grantedC  \\\n",
      "2  1981 (8.5 mos.)      358      119       220       137        2        0   \n",
      "\n",
      "  grantedR deniedP deniedC closedP  closedC president  \n",
      "2        0       0       0      66     87.0    reagan  \n"
     ]
    }
   ],
   "source": [
    "# REAGAN\n",
    "reagan = tables[15]\n",
    "reagan = reagan[2:] # take out first two rows with dirty column names\n",
    "reagan = reagan[:1] # take out all but first year, for comparison to trump\n",
    "reagan.columns = ['year','pendingP','pendingC','receivedP','receivedC','grantedP','grantedC','grantedR','deniedP','deniedC','closedP','closedC']\n",
    "reagan['president'] = 'reagan'\n",
    "print(reagan)"
   ]
  },
  {
   "cell_type": "code",
   "execution_count": 8,
   "metadata": {},
   "outputs": [
    {
     "name": "stdout",
     "output_type": "stream",
     "text": [
      "              year pendingP pendingC receivedP receivedC grantedP grantedC  \\\n",
      "2  1989 (8.5 mos.)      488      186       115       130        9        1   \n",
      "\n",
      "  grantedR deniedP deniedC closedP  closedC president  \n",
      "2        0     122      22      41    112.0    hwbush  \n"
     ]
    }
   ],
   "source": [
    "# H.W. BUSH\n",
    "hwbush = tables[16]\n",
    "hwbush = hwbush[2:] # take out first two rows with dirty column names\n",
    "hwbush = hwbush[:1] # take out all but first year, for comparison to trump\n",
    "hwbush.columns = ['year','pendingP','pendingC','receivedP','receivedC','grantedP','grantedC','grantedR','deniedP','deniedC','closedP','closedC']\n",
    "hwbush['president'] = 'hwbush'\n",
    "print(hwbush)"
   ]
  },
  {
   "cell_type": "code",
   "execution_count": 9,
   "metadata": {},
   "outputs": [
    {
     "name": "stdout",
     "output_type": "stream",
     "text": [
      "              year pendingP pendingC receivedP receivedC grantedP grantedC  \\\n",
      "2  1993 (8.5 mos.)      260      192       172       526        0        0   \n",
      "\n",
      "  grantedR deniedP deniedC closedP  closedC president  \n",
      "2        0       1       2      33     53.0   clinton  \n"
     ]
    }
   ],
   "source": [
    "# CLINTON\n",
    "clinton = tables[17]\n",
    "clinton = clinton[2:] # take out first two rows with dirty column names\n",
    "clinton = clinton[:1] # take out all but first year, for comparison to trump\n",
    "clinton.columns = ['year','pendingP','pendingC','receivedP','receivedC','grantedP','grantedC','grantedR','deniedP','deniedC','closedP','closedC']\n",
    "clinton['president'] = 'clinton'\n",
    "print(clinton)"
   ]
  },
  {
   "cell_type": "code",
   "execution_count": 10,
   "metadata": {},
   "outputs": [
    {
     "name": "stdout",
     "output_type": "stream",
     "text": [
      "              year pendingP pendingC receivedP receivedC grantedP grantedC  \\\n",
      "2  2001 (8.5 mos.)      923     2063       110       548        0        0   \n",
      "\n",
      "  grantedR deniedP deniedC closedP  closedC president  \n",
      "2        0       0       1      45    277.0      bush  \n"
     ]
    }
   ],
   "source": [
    "# W. BUSH\n",
    "bush = tables[18]\n",
    "bush = bush[2:] # take out first two rows with dirty column names\n",
    "bush = bush[:1] # take out all but first year, for comparison to trump\n",
    "bush.columns = ['year','pendingP','pendingC','receivedP','receivedC','grantedP','grantedC','grantedR','deniedP','deniedC','closedP','closedC']\n",
    "bush['president'] = 'bush'\n",
    "print(bush)"
   ]
  },
  {
   "cell_type": "code",
   "execution_count": 11,
   "metadata": {},
   "outputs": [
    {
     "name": "stdout",
     "output_type": "stream",
     "text": [
      "              year pendingP pendingC receivedP receivedC grantedP grantedC  \\\n",
      "2  2009 (8.5 mos.)     1040      903       232      1086        0        0   \n",
      "\n",
      "  grantedR deniedP deniedC closedP  closedC president  \n",
      "2        0       0       0     132    120.0     obama  \n"
     ]
    }
   ],
   "source": [
    "# OBAMA\n",
    "obama = tables[19]\n",
    "obama = obama[2:] # take out first two rows with dirty column names\n",
    "obama = obama[:1] # take out all but first year, for comparison to trump\n",
    "obama.columns = ['year','pendingP','pendingC','receivedP','receivedC','grantedP','grantedC','grantedR','deniedP','deniedC','closedP','closedC']\n",
    "obama['president'] = 'obama'\n",
    "print(obama)"
   ]
  },
  {
   "cell_type": "code",
   "execution_count": 12,
   "metadata": {},
   "outputs": [
    {
     "name": "stdout",
     "output_type": "stream",
     "text": [
      "              year pendingP pendingC receivedP receivedC grantedP grantedC  \\\n",
      "2  2017 (8.5 mos.)     2010     9361       422      1729        1        0   \n",
      "\n",
      "  grantedR deniedP deniedC closedP  closedC president  \n",
      "2        0       0       0     161   2158.0     trump  \n"
     ]
    }
   ],
   "source": [
    "# TRUMP\n",
    "trump = tables[20]\n",
    "trump = trump[2:] # take out first two rows with dirty column names\n",
    "trump = trump[:1] # take out all but first year, for comparison to trump\n",
    "trump = trump.drop([3,4], axis=1) # drop extra columns in only trump's table\n",
    "trump.columns = ['year','pendingP','pendingC','receivedP','receivedC','grantedP','grantedC','grantedR','deniedP','deniedC','closedP','closedC']\n",
    "trump['president'] = 'trump'\n",
    "print(trump)"
   ]
  },
  {
   "cell_type": "code",
   "execution_count": 13,
   "metadata": {},
   "outputs": [
    {
     "name": "stdout",
     "output_type": "stream",
     "text": [
      "              year pendingP pendingC receivedP receivedC grantedP grantedC  \\\n",
      "2  1977 (8.5 mos.)      368      106       292       271        0        1   \n",
      "2  1981 (8.5 mos.)      358      119       220       137        2        0   \n",
      "2  1989 (8.5 mos.)      488      186       115       130        9        1   \n",
      "2  1993 (8.5 mos.)      260      192       172       526        0        0   \n",
      "2  2001 (8.5 mos.)      923     2063       110       548        0        0   \n",
      "2  2009 (8.5 mos.)     1040      903       232      1086        0        0   \n",
      "2  2017 (8.5 mos.)     2010     9361       422      1729        1        0   \n",
      "\n",
      "  grantedR deniedP deniedC closedP  closedC president  \n",
      "2        0       1       0     118     49.0    carter  \n",
      "2        0       0       0      66     87.0    reagan  \n",
      "2        0     122      22      41    112.0    hwbush  \n",
      "2        0       1       2      33     53.0   clinton  \n",
      "2        0       0       1      45    277.0      bush  \n",
      "2        0       0       0     132    120.0     obama  \n",
      "2        0       0       0     161   2158.0     trump  \n"
     ]
    }
   ],
   "source": [
    "pardons_yr1 = pd.concat([carter,reagan,hwbush,clinton,bush,obama,trump])\n",
    "print(pardons_yr1)"
   ]
  },
  {
   "cell_type": "code",
   "execution_count": 14,
   "metadata": {},
   "outputs": [
    {
     "name": "stdout",
     "output_type": "stream",
     "text": [
      "   grantedP  grantedC  grantedR president  granted_all\n",
      "2         0         1         0    carter            1\n",
      "2         2         0         0    reagan            2\n",
      "2         9         1         0    hwbush           10\n",
      "2         0         0         0   clinton            0\n",
      "2         0         0         0      bush            0\n",
      "2         0         0         0     obama            0\n",
      "2         1         0         0     trump            1\n"
     ]
    }
   ],
   "source": [
    "# PARDONS YEAR 1 ANALYSIS\n",
    "# 1. How many total petitions (P, C, R) did each president grant in his first year in office?\n",
    "granted_yr1 = pardons_yr1.drop(['year','pendingP','pendingC','receivedP','receivedC','deniedP','deniedC','closedP','closedC'], axis=1)\n",
    "granted_yr1[['grantedP','grantedC','grantedR']] = granted_yr1[['grantedP','grantedC','grantedR']].apply(pd.to_numeric)\n",
    "\n",
    "granted_yr1['granted_all'] = granted_yr1['grantedP'] + granted_yr1['grantedC'] + granted_yr1['grantedR']\n",
    "print(granted_yr1)"
   ]
  },
  {
   "cell_type": "code",
   "execution_count": 15,
   "metadata": {},
   "outputs": [
    {
     "name": "stdout",
     "output_type": "stream",
     "text": [
      "              year  pendingP  pendingC  receivedP  receivedC  grantedP  \\\n",
      "2  1977 (8.5 mos.)       368       106        292        271         0   \n",
      "2  1981 (8.5 mos.)       358       119        220        137         2   \n",
      "2  1989 (8.5 mos.)       488       186        115        130         9   \n",
      "2  1993 (8.5 mos.)       260       192        172        526         0   \n",
      "2  2001 (8.5 mos.)       923      2063        110        548         0   \n",
      "2  2009 (8.5 mos.)      1040       903        232       1086         0   \n",
      "2  2017 (8.5 mos.)      2010      9361        422       1729         1   \n",
      "\n",
      "   grantedC  grantedR president  pend_rec  granted_all  pctgranted  \n",
      "2         1         0    carter      1037            1    0.096432  \n",
      "2         0         0    reagan       834            2    0.239808  \n",
      "2         1         0    hwbush       919           10    1.088139  \n",
      "2         0         0   clinton      1150            0    0.000000  \n",
      "2         0         0      bush      3644            0    0.000000  \n",
      "2         0         0     obama      3261            0    0.000000  \n",
      "2         0         0     trump     13522            1    0.007395  \n"
     ]
    }
   ],
   "source": [
    "# What percent of petitions pending + received were in the first year were granted?\n",
    "pctgranted_yr1 = pardons_yr1.drop(['deniedP','deniedC','closedP','closedC'], axis=1)\n",
    "pctgranted_yr1[['pendingP','pendingC','receivedP','receivedC','grantedP','grantedC','grantedR']] = pctgranted_yr1[['pendingP','pendingC','receivedP','receivedC','grantedP','grantedC','grantedR']].apply(pd.to_numeric)\n",
    "\n",
    "pctgranted_yr1['pend_rec'] = pctgranted_yr1['pendingP'] + pctgranted_yr1['pendingC'] + pctgranted_yr1['receivedP'] + pctgranted_yr1['receivedC']\n",
    "pctgranted_yr1['granted_all'] = pctgranted_yr1['grantedP'] + pctgranted_yr1['grantedC'] + pctgranted_yr1['grantedR']\n",
    "pctgranted_yr1['pctgranted'] = (pctgranted_yr1['granted_all'] / pctgranted_yr1['pend_rec']) * 100\n",
    "print(pctgranted_yr1)"
   ]
  },
  {
   "cell_type": "code",
   "execution_count": 16,
   "metadata": {},
   "outputs": [
    {
     "name": "stdout",
     "output_type": "stream",
     "text": [
      "    year  pendingP  pendingC  receivedP  receivedC  grantedP  grantedC  \\\n",
      "2  total     909.0     433.0      671.0      533.0     162.0       4.0   \n",
      "\n",
      "   grantedR  deniedP  deniedC  closedP  closedC president  \n",
      "2       0.0    308.0    409.0    192.0     95.0    carter  \n"
     ]
    }
   ],
   "source": [
    "# PARDONS YEARS 1 + 2\n",
    "# CARTER\n",
    "carter2 = tables[14]\n",
    "carter2 = carter2[2:] # take out first two rows with dirty column names\n",
    "carter2 = carter2[:2]\n",
    "\n",
    "carter2.columns = ['year','pendingP','pendingC','receivedP','receivedC','grantedP','grantedC','grantedR','deniedP','deniedC','closedP','closedC']\n",
    "\n",
    "carter2[['pendingP','pendingC','receivedP','receivedC','grantedP','grantedC','grantedR','deniedP','deniedC','closedP','closedC']] = carter2[['pendingP','pendingC','receivedP','receivedC','grantedP','grantedC','grantedR','deniedP','deniedC','closedP','closedC']].apply(pd.to_numeric)\n",
    "carter2 = carter2.append(carter2.sum(numeric_only=True), ignore_index=True)\n",
    "carter2.at[2, 'year'] = 'total'\n",
    "\n",
    "carter2['president'] = 'carter'\n",
    "\n",
    "carter_sum = carter2[2:]\n",
    "\n",
    "print(carter_sum)"
   ]
  },
  {
   "cell_type": "code",
   "execution_count": 17,
   "metadata": {},
   "outputs": [
    {
     "name": "stdout",
     "output_type": "stream",
     "text": [
      "    year  pendingP  pendingC  receivedP  receivedC  grantedP  grantedC  \\\n",
      "2  total     868.0     288.0      503.0      316.0      85.0       3.0   \n",
      "\n",
      "   grantedR  deniedP  deniedC  closedP  closedC president  \n",
      "2       0.0    258.0    123.0    147.0    172.0    reagan  \n"
     ]
    }
   ],
   "source": [
    "# REAGAN\n",
    "reagan2 = tables[15]\n",
    "reagan2 = reagan2[2:] # take out first two rows with dirty column names\n",
    "reagan2 = reagan2[:2]\n",
    "\n",
    "reagan2.columns = ['year','pendingP','pendingC','receivedP','receivedC','grantedP','grantedC','grantedR','deniedP','deniedC','closedP','closedC']\n",
    "\n",
    "reagan2[['pendingP','pendingC','receivedP','receivedC','grantedP','grantedC','grantedR','deniedP','deniedC','closedP','closedC']] = reagan2[['pendingP','pendingC','receivedP','receivedC','grantedP','grantedC','grantedR','deniedP','deniedC','closedP','closedC']].apply(pd.to_numeric)\n",
    "reagan2 = reagan2.append(reagan2.sum(numeric_only=True), ignore_index=True)\n",
    "reagan2.at[2, 'year'] = 'total'\n",
    "\n",
    "reagan2['president'] = 'reagan'\n",
    "\n",
    "reagan_sum = reagan2[2:]\n",
    "\n",
    "print(reagan_sum)"
   ]
  },
  {
   "cell_type": "code",
   "execution_count": 18,
   "metadata": {},
   "outputs": [
    {
     "name": "stdout",
     "output_type": "stream",
     "text": [
      "    year  pendingP  pendingC  receivedP  receivedC  grantedP  grantedC  \\\n",
      "2  total       920       370        321        278         9         1   \n",
      "\n",
      "   grantedR  deniedP  deniedC  closedP  closedC president  \n",
      "2         0      216       44      100    226.0    hwbush  \n"
     ]
    }
   ],
   "source": [
    "# H.W. BUSH\n",
    "hwbush2 = tables[16]\n",
    "hwbush2 = hwbush2[2:] # take out first two rows with dirty column names\n",
    "hwbush2 = hwbush2[:2]\n",
    "\n",
    "hwbush2.columns = ['year','pendingP','pendingC','receivedP','receivedC','grantedP','grantedC','grantedR','deniedP','deniedC','closedP','closedC']\n",
    "\n",
    "hwbush2[['pendingP','pendingC','receivedP','receivedC','grantedP','grantedC','grantedR','deniedP','deniedC','closedP','closedC']] = hwbush2[['pendingP','pendingC','receivedP','receivedC','grantedP','grantedC','grantedR','deniedP','deniedC','closedP','closedC']].apply(pd.to_numeric)\n",
    "hwbush2 = hwbush2.append(hwbush2.sum(), ignore_index=True)\n",
    "hwbush2.at[2, 'year'] = 'total'\n",
    "\n",
    "hwbush2['president'] = 'hwbush'\n",
    "\n",
    "hwbush_sum = hwbush2[2:]\n",
    "\n",
    "print(hwbush_sum)"
   ]
  },
  {
   "cell_type": "code",
   "execution_count": 19,
   "metadata": {},
   "outputs": [
    {
     "name": "stdout",
     "output_type": "stream",
     "text": [
      "    year  pendingP  pendingC  receivedP  receivedC  grantedP  grantedC  \\\n",
      "2  total       652       848        400       1106         0         0   \n",
      "\n",
      "   grantedR  deniedP  deniedC  closedP  closedC president  \n",
      "2         0      176      402      107    189.0   clinton  \n"
     ]
    }
   ],
   "source": [
    "# CLINTON\n",
    "clinton2 = tables[17]\n",
    "clinton2 = clinton2[2:] # take out first two rows with dirty column names\n",
    "clinton2 = clinton2[:2]\n",
    "\n",
    "clinton2.columns = ['year','pendingP','pendingC','receivedP','receivedC','grantedP','grantedC','grantedR','deniedP','deniedC','closedP','closedC']\n",
    "\n",
    "clinton2[['pendingP','pendingC','receivedP','receivedC','grantedP','grantedC','grantedR','deniedP','deniedC','closedP','closedC']] = clinton2[['pendingP','pendingC','receivedP','receivedC','grantedP','grantedC','grantedR','deniedP','deniedC','closedP','closedC']].apply(pd.to_numeric)\n",
    "clinton2 = clinton2.append(clinton2.sum(), ignore_index=True)\n",
    "clinton2.at[2, 'year'] = 'total'\n",
    "\n",
    "clinton2['president'] = 'clinton'\n",
    "\n",
    "clinton_sum = clinton2[2:]\n",
    "\n",
    "print(clinton_sum)"
   ]
  },
  {
   "cell_type": "code",
   "execution_count": 20,
   "metadata": {},
   "outputs": [
    {
     "name": "stdout",
     "output_type": "stream",
     "text": [
      "    year  pendingP  pendingC  receivedP  receivedC  grantedP  grantedC  \\\n",
      "2  total      1911      4395        262       1644         0         0   \n",
      "\n",
      "   grantedR  deniedP  deniedC  closedP  closedC president  \n",
      "2         0      519     1467       98    517.0      bush  \n"
     ]
    }
   ],
   "source": [
    "# W. BUSH\n",
    "bush2 = tables[18]\n",
    "bush2 = bush2[2:] # take out first two rows with dirty column names\n",
    "bush2 = bush2[:2]\n",
    "\n",
    "bush2.columns = ['year','pendingP','pendingC','receivedP','receivedC','grantedP','grantedC','grantedR','deniedP','deniedC','closedP','closedC']\n",
    "\n",
    "bush2[['pendingP','pendingC','receivedP','receivedC','grantedP','grantedC','grantedR','deniedP','deniedC','closedP','closedC']] = bush2[['pendingP','pendingC','receivedP','receivedC','grantedP','grantedC','grantedR','deniedP','deniedC','closedP','closedC']].apply(pd.to_numeric)\n",
    "bush2 = bush2.append(bush2.sum(), ignore_index=True)\n",
    "bush2.at[2, 'year'] = 'total'\n",
    "\n",
    "bush2['president'] = 'bush'\n",
    "\n",
    "bush_sum = bush2[2:]\n",
    "\n",
    "print(bush_sum)"
   ]
  },
  {
   "cell_type": "code",
   "execution_count": 21,
   "metadata": {},
   "outputs": [
    {
     "name": "stdout",
     "output_type": "stream",
     "text": [
      "    year  pendingP  pendingC  receivedP  receivedC  grantedP  grantedC  \\\n",
      "2  total      2180      2772        494       2988         0         0   \n",
      "\n",
      "   grantedR  deniedP  deniedC  closedP  closedC president  \n",
      "2         0        0        0      248    460.0     obama  \n"
     ]
    }
   ],
   "source": [
    "# OBAMA\n",
    "obama2 = tables[19]\n",
    "obama2 = obama2[2:] # take out first two rows with dirty column names\n",
    "obama2 = obama2[:2]\n",
    "\n",
    "obama2.columns = ['year','pendingP','pendingC','receivedP','receivedC','grantedP','grantedC','grantedR','deniedP','deniedC','closedP','closedC']\n",
    "\n",
    "obama2[['pendingP','pendingC','receivedP','receivedC','grantedP','grantedC','grantedR','deniedP','deniedC','closedP','closedC']] = obama2[['pendingP','pendingC','receivedP','receivedC','grantedP','grantedC','grantedR','deniedP','deniedC','closedP','closedC']].apply(pd.to_numeric)\n",
    "obama2 = obama2.append(obama2.sum(), ignore_index=True)\n",
    "obama2.at[2, 'year'] = 'total'\n",
    "\n",
    "obama2['president'] = 'obama'\n",
    "\n",
    "obama_sum = obama2[2:]\n",
    "\n",
    "print(obama_sum)"
   ]
  },
  {
   "cell_type": "code",
   "execution_count": 22,
   "metadata": {},
   "outputs": [
    {
     "name": "stdout",
     "output_type": "stream",
     "text": [
      "    year  pendingP  pendingC  receivedP  receivedC  grantedP  grantedC  \\\n",
      "2  total      4281     18293        675       2722         7         4   \n",
      "\n",
      "   grantedR  deniedP  deniedC  closedP  closedC president  \n",
      "2         0       82       98      455   3005.0     trump  \n"
     ]
    }
   ],
   "source": [
    "# TRUMP\n",
    "trump2 = tables[20]\n",
    "trump2 = trump2[2:] # take out first two rows with dirty column names\n",
    "trump2 = trump2[:2] # take out all but first year, for comparison to trump\n",
    "trump2 = trump2.drop([3,4], axis=1) # drop extra columns in only trump's table\n",
    "\n",
    "trump2.columns = ['year','pendingP','pendingC','receivedP','receivedC','grantedP','grantedC','grantedR','deniedP','deniedC','closedP','closedC']\n",
    "\n",
    "trump2[['pendingP','pendingC','receivedP','receivedC','grantedP','grantedC','grantedR','deniedP','deniedC','closedP','closedC']] = trump2[['pendingP','pendingC','receivedP','receivedC','grantedP','grantedC','grantedR','deniedP','deniedC','closedP','closedC']].apply(pd.to_numeric)\n",
    "trump2 = trump2.append(trump2.sum(), ignore_index=True)\n",
    "trump2.at[2, 'year'] = 'total'\n",
    "\n",
    "trump2['president'] = 'trump'\n",
    "\n",
    "trump_sum = trump2[2:]\n",
    "\n",
    "print(trump_sum)"
   ]
  },
  {
   "cell_type": "code",
   "execution_count": 23,
   "metadata": {},
   "outputs": [
    {
     "name": "stdout",
     "output_type": "stream",
     "text": [
      "    year  pendingP  pendingC  receivedP  receivedC  grantedP  grantedC  \\\n",
      "2  total     909.0     433.0      671.0      533.0     162.0       4.0   \n",
      "2  total     868.0     288.0      503.0      316.0      85.0       3.0   \n",
      "2  total     920.0     370.0      321.0      278.0       9.0       1.0   \n",
      "2  total     652.0     848.0      400.0     1106.0       0.0       0.0   \n",
      "2  total    1911.0    4395.0      262.0     1644.0       0.0       0.0   \n",
      "2  total    2180.0    2772.0      494.0     2988.0       0.0       0.0   \n",
      "2  total    4281.0   18293.0      675.0     2722.0       7.0       4.0   \n",
      "\n",
      "   grantedR  deniedP  deniedC  closedP  closedC president  \n",
      "2       0.0    308.0    409.0    192.0     95.0    carter  \n",
      "2       0.0    258.0    123.0    147.0    172.0    reagan  \n",
      "2       0.0    216.0     44.0    100.0    226.0    hwbush  \n",
      "2       0.0    176.0    402.0    107.0    189.0   clinton  \n",
      "2       0.0    519.0   1467.0     98.0    517.0      bush  \n",
      "2       0.0      0.0      0.0    248.0    460.0     obama  \n",
      "2       0.0     82.0     98.0    455.0   3005.0     trump  \n"
     ]
    }
   ],
   "source": [
    "pardons_yr12 = pd.concat([carter_sum,reagan_sum,hwbush_sum,clinton_sum,bush_sum,obama_sum,trump_sum])\n",
    "print(pardons_yr12)"
   ]
  },
  {
   "cell_type": "code",
   "execution_count": 24,
   "metadata": {},
   "outputs": [
    {
     "name": "stdout",
     "output_type": "stream",
     "text": [
      "   grantedP  grantedC  grantedR president  granted_all\n",
      "2     162.0       4.0       0.0    carter        166.0\n",
      "2      85.0       3.0       0.0    reagan         88.0\n",
      "2       9.0       1.0       0.0    hwbush         10.0\n",
      "2       0.0       0.0       0.0   clinton          0.0\n",
      "2       0.0       0.0       0.0      bush          0.0\n",
      "2       0.0       0.0       0.0     obama          0.0\n",
      "2       7.0       4.0       0.0     trump         11.0\n"
     ]
    }
   ],
   "source": [
    "# PARDONS YEARS 1+2 ANALYSIS\n",
    "# 1. How many total petitions (P, C, R) did each president grant in his first two years in office?\n",
    "granted_yr12 = pardons_yr12.drop(['year','pendingP','pendingC','receivedP','receivedC','deniedP','deniedC','closedP','closedC'], axis=1)\n",
    "granted_yr12[['grantedP','grantedC','grantedR']] = granted_yr12[['grantedP','grantedC','grantedR']].apply(pd.to_numeric)\n",
    "\n",
    "granted_yr12['granted_all'] = granted_yr12['grantedP'] + granted_yr12['grantedC'] + granted_yr12['grantedR']\n",
    "print(granted_yr12)"
   ]
  },
  {
   "cell_type": "code",
   "execution_count": 25,
   "metadata": {},
   "outputs": [
    {
     "name": "stdout",
     "output_type": "stream",
     "text": [
      "    year  pendingP  pendingC  receivedP  receivedC  grantedP  grantedC  \\\n",
      "2  total     909.0     433.0      671.0      533.0     162.0       4.0   \n",
      "2  total     868.0     288.0      503.0      316.0      85.0       3.0   \n",
      "2  total     920.0     370.0      321.0      278.0       9.0       1.0   \n",
      "2  total     652.0     848.0      400.0     1106.0       0.0       0.0   \n",
      "2  total    1911.0    4395.0      262.0     1644.0       0.0       0.0   \n",
      "2  total    2180.0    2772.0      494.0     2988.0       0.0       0.0   \n",
      "2  total    4281.0   18293.0      675.0     2722.0       7.0       4.0   \n",
      "\n",
      "   grantedR president  pend_rec  granted_all  pctgranted  \n",
      "2       0.0    carter    2546.0        166.0    6.520031  \n",
      "2       0.0    reagan    1975.0         88.0    4.455696  \n",
      "2       0.0    hwbush    1889.0         10.0    0.529381  \n",
      "2       0.0   clinton    3006.0          0.0    0.000000  \n",
      "2       0.0      bush    8212.0          0.0    0.000000  \n",
      "2       0.0     obama    8434.0          0.0    0.000000  \n",
      "2       0.0     trump   25971.0         11.0    0.042355  \n"
     ]
    }
   ],
   "source": [
    "# What percent of petitions pending + received were in years 1 + 2 were granted?\n",
    "pctgranted_yr12 = pardons_yr12.drop(['deniedP','deniedC','closedP','closedC'], axis=1)\n",
    "pctgranted_yr12[['pendingP','pendingC','receivedP','receivedC','grantedP','grantedC','grantedR']] = pctgranted_yr12[['pendingP','pendingC','receivedP','receivedC','grantedP','grantedC','grantedR']].apply(pd.to_numeric)\n",
    "\n",
    "pctgranted_yr12['pend_rec'] = pctgranted_yr12['pendingP'] + pctgranted_yr12['pendingC'] + pctgranted_yr12['receivedP'] + pctgranted_yr12['receivedC']\n",
    "pctgranted_yr12['granted_all'] = pctgranted_yr12['grantedP'] + pctgranted_yr12['grantedC'] + pctgranted_yr12['grantedR']\n",
    "pctgranted_yr12['pctgranted'] = (pctgranted_yr12['granted_all'] / pctgranted_yr12['pend_rec']) * 100\n",
    "print(pctgranted_yr12)"
   ]
  },
  {
   "cell_type": "code",
   "execution_count": 26,
   "metadata": {},
   "outputs": [
    {
     "name": "stdout",
     "output_type": "stream",
     "text": [
      "              year  received president\n",
      "2  1977 (8.5 mos.)       563    carter\n",
      "3             1978       641    carter\n",
      "4             1979       710    carter\n",
      "5             1980       523    carter\n",
      "6  1981 (3.5 mos.)       190    carter\n"
     ]
    }
   ],
   "source": [
    "# PETITIONS RECEIVED PER YEAR\n",
    "# It looks like the number of petitions received per year of presidency has skyrocketed over time\n",
    "# It gets astronomical during the last year of Obama's presidency, so Trump had a big backlog\n",
    "# CARTER\n",
    "carter3 = tables[14]\n",
    "carter3 = carter3[2:] # take out first two rows with dirty column names\n",
    "carter3 = carter3[:5]\n",
    "\n",
    "carter3.columns = ['year','pendingP','pendingC','receivedP','receivedC','grantedP','grantedC','grantedR','deniedP','deniedC','closedP','closedC']\n",
    "carter3 = carter3.drop(['pendingP','pendingC','grantedP','grantedC','grantedR','deniedP','deniedC','closedP','closedC'], axis=1)\n",
    "\n",
    "carter3[['receivedP','receivedC']] = carter3[['receivedP','receivedC']].apply(pd.to_numeric)\n",
    "carter3['received'] = carter3['receivedP'] + carter3['receivedC']\n",
    "\n",
    "carter3 = carter3.drop(['receivedP','receivedC'], axis=1)\n",
    "\n",
    "carter3['president'] = 'carter'\n",
    "\n",
    "print(carter3)"
   ]
  },
  {
   "cell_type": "code",
   "execution_count": 27,
   "metadata": {},
   "outputs": [
    {
     "name": "stdout",
     "output_type": "stream",
     "text": [
      "               year  received president\n",
      "2   1981 (8.5 mos.)       357    reagan\n",
      "3              1982       462    reagan\n",
      "4              1983       447    reagan\n",
      "5              1984       447    reagan\n",
      "6              1985       407    reagan\n",
      "7              1986       362    reagan\n",
      "8              1987       410    reagan\n",
      "9              1988       384    reagan\n",
      "10  1989 (3.5 mos.)       128    reagan\n"
     ]
    }
   ],
   "source": [
    "# REAGAN\n",
    "reagan3 = tables[15]\n",
    "reagan3 = reagan3[2:] # take out first two rows with dirty column names\n",
    "reagan3 = reagan3[:9]\n",
    "\n",
    "reagan3.columns = ['year','pendingP','pendingC','receivedP','receivedC','grantedP','grantedC','grantedR','deniedP','deniedC','closedP','closedC']\n",
    "reagan3 = reagan3.drop(['pendingP','pendingC','grantedP','grantedC','grantedR','deniedP','deniedC','closedP','closedC'], axis=1)\n",
    "\n",
    "reagan3[['receivedP','receivedC']] = reagan3[['receivedP','receivedC']].apply(pd.to_numeric)\n",
    "reagan3['received'] = reagan3['receivedP'] + reagan3['receivedC']\n",
    "\n",
    "reagan3 = reagan3.drop(['receivedP','receivedC'], axis=1)\n",
    "\n",
    "reagan3['president'] = 'reagan'\n",
    "\n",
    "print(reagan3)"
   ]
  },
  {
   "cell_type": "code",
   "execution_count": 28,
   "metadata": {},
   "outputs": [
    {
     "name": "stdout",
     "output_type": "stream",
     "text": [
      "              year  received president\n",
      "2  1989 (8.5 mos.)       245    hwbush\n",
      "3             1990       354    hwbush\n",
      "4             1991       318    hwbush\n",
      "5             1992       379    hwbush\n",
      "6  1993 (3.5 mos.)       170    hwbush\n"
     ]
    }
   ],
   "source": [
    "# H.W. BUSH\n",
    "hwbush3 = tables[16]\n",
    "hwbush3 = hwbush3[2:] # take out first two rows with dirty column names\n",
    "hwbush3 = hwbush3[:5]\n",
    "\n",
    "hwbush3.columns = ['year','pendingP','pendingC','receivedP','receivedC','grantedP','grantedC','grantedR','deniedP','deniedC','closedP','closedC']\n",
    "hwbush3 = hwbush3.drop(['pendingP','pendingC','grantedP','grantedC','grantedR','deniedP','deniedC','closedP','closedC'], axis=1)\n",
    "\n",
    "hwbush3[['receivedP','receivedC']] = hwbush3[['receivedP','receivedC']].apply(pd.to_numeric)\n",
    "hwbush3['received'] = hwbush3['receivedP'] + hwbush3['receivedC']\n",
    "\n",
    "hwbush3 = hwbush3.drop(['receivedP','receivedC'], axis=1)\n",
    "\n",
    "hwbush3['president'] = 'hwbush'\n",
    "\n",
    "print(hwbush3)"
   ]
  },
  {
   "cell_type": "code",
   "execution_count": 29,
   "metadata": {},
   "outputs": [
    {
     "name": "stdout",
     "output_type": "stream",
     "text": [
      "               year  received president\n",
      "2   1993 (8.5 mos.)       698   clinton\n",
      "3              1994       808   clinton\n",
      "4              1995       612   clinton\n",
      "5              1996       512   clinton\n",
      "6              1997       685   clinton\n",
      "7              1998       608   clinton\n",
      "8              1999      1009   clinton\n",
      "9              2000      1388   clinton\n",
      "10  2001 (3.5 mos.)      1169   clinton\n"
     ]
    }
   ],
   "source": [
    "# CLINTON\n",
    "clinton3 = tables[17]\n",
    "clinton3 = clinton3[2:] # take out first two rows with dirty column names\n",
    "clinton3 = clinton3[:9]\n",
    "\n",
    "clinton3.columns = ['year','pendingP','pendingC','receivedP','receivedC','grantedP','grantedC','grantedR','deniedP','deniedC','closedP','closedC']\n",
    "clinton3 = clinton3.drop(['pendingP','pendingC','grantedP','grantedC','grantedR','deniedP','deniedC','closedP','closedC'], axis=1)\n",
    "\n",
    "clinton3[['receivedP','receivedC']] = clinton3[['receivedP','receivedC']].apply(pd.to_numeric)\n",
    "clinton3['received'] = clinton3['receivedP'] + clinton3['receivedC']\n",
    "\n",
    "clinton3 = clinton3.drop(['receivedP','receivedC'], axis=1)\n",
    "\n",
    "clinton3['president'] = 'clinton'\n",
    "\n",
    "print(clinton3)"
   ]
  },
  {
   "cell_type": "code",
   "execution_count": 30,
   "metadata": {},
   "outputs": [
    {
     "name": "stdout",
     "output_type": "stream",
     "text": [
      "               year  received president\n",
      "2   2001 (8.5 mos.)       658      bush\n",
      "3              2002      1248      bush\n",
      "4              2003      1023      bush\n",
      "5              2004      1186      bush\n",
      "6              2005      1059      bush\n",
      "7              2006      1013      bush\n",
      "8              2007      1259      bush\n",
      "9              2008      2325      bush\n",
      "10  2009 (3.5 mos.)      1303      bush\n"
     ]
    }
   ],
   "source": [
    "# BUSH\n",
    "bush3 = tables[18]\n",
    "bush3 = bush3[2:] # take out first two rows with dirty column names\n",
    "bush3 = bush3[:9]\n",
    "\n",
    "bush3.columns = ['year','pendingP','pendingC','receivedP','receivedC','grantedP','grantedC','grantedR','deniedP','deniedC','closedP','closedC']\n",
    "bush3 = bush3.drop(['pendingP','pendingC','grantedP','grantedC','grantedR','deniedP','deniedC','closedP','closedC'], axis=1)\n",
    "\n",
    "bush3[['receivedP','receivedC']] = bush3[['receivedP','receivedC']].apply(pd.to_numeric)\n",
    "bush3['received'] = bush3['receivedP'] + bush3['receivedC']\n",
    "\n",
    "bush3 = bush3.drop(['receivedP','receivedC'], axis=1)\n",
    "\n",
    "bush3['president'] = 'bush'\n",
    "\n",
    "print(bush3)"
   ]
  },
  {
   "cell_type": "code",
   "execution_count": 31,
   "metadata": {},
   "outputs": [
    {
     "name": "stdout",
     "output_type": "stream",
     "text": [
      "               year  received president\n",
      "2   2009 (8.5 mos.)      1318     obama\n",
      "3              2010      2164     obama\n",
      "4              2011      1916     obama\n",
      "5              2012      1930     obama\n",
      "6              2013      2673     obama\n",
      "7              2014      6834     obama\n",
      "8              2015      3293     obama\n",
      "9              2016     12025     obama\n",
      "10  2017 (3.5 mos.)      4391     obama\n"
     ]
    }
   ],
   "source": [
    "# OBAMA\n",
    "obama3 = tables[19]\n",
    "obama3 = obama3[2:] # take out first two rows with dirty column names\n",
    "obama3 = obama3[:9]\n",
    "\n",
    "obama3.columns = ['year','pendingP','pendingC','receivedP','receivedC','grantedP','grantedC','grantedR','deniedP','deniedC','closedP','closedC']\n",
    "obama3 = obama3.drop(['pendingP','pendingC','grantedP','grantedC','grantedR','deniedP','deniedC','closedP','closedC'], axis=1)\n",
    "\n",
    "obama3[['receivedP','receivedC']] = obama3[['receivedP','receivedC']].apply(pd.to_numeric)\n",
    "obama3['received'] = obama3['receivedP'] + obama3['receivedC']\n",
    "\n",
    "obama3 = obama3.drop(['receivedP','receivedC'], axis=1)\n",
    "\n",
    "obama3['president'] = 'obama'\n",
    "\n",
    "print(obama3)"
   ]
  },
  {
   "cell_type": "code",
   "execution_count": 32,
   "metadata": {},
   "outputs": [
    {
     "name": "stdout",
     "output_type": "stream",
     "text": [
      "              year  received president\n",
      "2  2017 (8.5 mos.)      2151     trump\n",
      "3    2018 (9 mos.)      1246     trump\n"
     ]
    }
   ],
   "source": [
    "# TRUMP\n",
    "trump3 = tables[20]\n",
    "trump3 = trump3[2:] # take out first two rows with dirty column names\n",
    "trump3 = trump3[:2]\n",
    "trump3 = trump3.drop([3,4], axis=1) # drop extra columns in only trump's table\n",
    "\n",
    "trump3.columns = ['year','pendingP','pendingC','receivedP','receivedC','grantedP','grantedC','grantedR','deniedP','deniedC','closedP','closedC']\n",
    "trump3 = trump3.drop(['pendingP','pendingC','grantedP','grantedC','grantedR','deniedP','deniedC','closedP','closedC'], axis=1)\n",
    "\n",
    "trump3[['receivedP','receivedC']] = trump3[['receivedP','receivedC']].apply(pd.to_numeric)\n",
    "trump3['received'] = trump3['receivedP'] + trump3['receivedC']\n",
    "\n",
    "trump3 = trump3.drop(['receivedP','receivedC'], axis=1)\n",
    "\n",
    "trump3['president'] = 'trump'\n",
    "\n",
    "print(trump3)"
   ]
  },
  {
   "cell_type": "code",
   "execution_count": 33,
   "metadata": {},
   "outputs": [
    {
     "name": "stdout",
     "output_type": "stream",
     "text": [
      "               year  received president\n",
      "0              1978       641    carter\n",
      "1              1979       710    carter\n",
      "2              1980       523    carter\n",
      "3   1981 (3.5 mos.)       547    carter\n",
      "4              1982       462    reagan\n",
      "5              1983       447    reagan\n",
      "6              1984       447    reagan\n",
      "7              1985       407    reagan\n",
      "8              1986       362    reagan\n",
      "9              1987       410    reagan\n",
      "10             1988       384    reagan\n",
      "11  1989 (3.5 mos.)       373    reagan\n",
      "12             1990       354    hwbush\n",
      "13             1991       318    hwbush\n",
      "14             1992       379    hwbush\n",
      "15  1993 (3.5 mos.)       868    hwbush\n",
      "16             1994       808   clinton\n",
      "17             1995       612   clinton\n",
      "18             1996       512   clinton\n",
      "19             1997       685   clinton\n",
      "20             1998       608   clinton\n",
      "21             1999      1009   clinton\n",
      "22             2000      1388   clinton\n",
      "23  2001 (3.5 mos.)      1827   clinton\n",
      "24             2002      1248      bush\n",
      "25             2003      1023      bush\n",
      "26             2004      1186      bush\n",
      "27             2005      1059      bush\n",
      "28             2006      1013      bush\n",
      "29             2007      1259      bush\n",
      "30             2008      2325      bush\n",
      "31  2009 (3.5 mos.)      2621      bush\n",
      "32             2010      2164     obama\n",
      "33             2011      1916     obama\n",
      "34             2012      1930     obama\n",
      "35             2013      2673     obama\n",
      "36             2014      6834     obama\n",
      "37             2015      3293     obama\n",
      "38             2016     12025     obama\n",
      "39  2017 (3.5 mos.)      6542     obama\n",
      "40    2018 (9 mos.)      1246     trump\n"
     ]
    }
   ],
   "source": [
    "received = pd.concat([carter3,reagan3,hwbush3,clinton3,bush3,obama3,trump3]).reset_index().drop(['index'], axis=1)\n",
    "\n",
    "# combining years split between presidents\n",
    "received.at[4, 'received'] = received.at[4, 'received'] + received.at[5, 'received']\n",
    "received = received.drop([5], axis=0)\n",
    "\n",
    "received.at[13, 'received'] = received.at[13, 'received'] + received.at[14, 'received']\n",
    "received = received.drop([14], axis=0)\n",
    "\n",
    "received.at[18, 'received'] = received.at[18, 'received'] + received.at[19, 'received']\n",
    "received = received.drop([19], axis=0)\n",
    "\n",
    "received.at[27, 'received'] = received.at[27, 'received'] + received.at[28, 'received']\n",
    "received = received.drop([28], axis=0)\n",
    "\n",
    "received.at[36, 'received'] = received.at[36, 'received'] + received.at[37, 'received']\n",
    "received = received.drop([37], axis=0)\n",
    "\n",
    "received.at[45, 'received'] = received.at[45, 'received'] + received.at[46, 'received']\n",
    "received = received.drop([46], axis=0)\n",
    "\n",
    "received = received.drop([0], axis=0)\n",
    "received = received.reset_index().drop(['index'], axis=1)\n",
    "\n",
    "print(received) # the years that say 3.5 mos. are actually the whole year"
   ]
  },
  {
   "cell_type": "code",
   "execution_count": 34,
   "metadata": {},
   "outputs": [
    {
     "name": "stdout",
     "output_type": "stream",
     "text": [
      "              year  granted president\n",
      "2  1977 (8.5 mos.)        1    carter\n",
      "3             1978      165    carter\n",
      "4             1979      153    carter\n",
      "5             1980      166    carter\n",
      "6  1981 (3.5 mos.)       81    carter\n"
     ]
    }
   ],
   "source": [
    "# GRANTED EACH YEAR\n",
    "# The number of petitions granted annually appears to increase from the first to last year of each presidency\n",
    "\n",
    "# CARTER\n",
    "carter4 = tables[14]\n",
    "carter4 = carter4[2:] # take out first two rows with dirty column names\n",
    "carter4 = carter4[:5]\n",
    "\n",
    "carter4.columns = ['year','pendingP','pendingC','receivedP','receivedC','grantedP','grantedC','grantedR','deniedP','deniedC','closedP','closedC']\n",
    "carter4 = carter4.drop(['pendingP','pendingC','receivedP','receivedC','deniedP','deniedC','closedP','closedC'], axis=1)\n",
    "\n",
    "carter4[['grantedP','grantedC','grantedR']] = carter4[['grantedP','grantedC','grantedR']].apply(pd.to_numeric)\n",
    "carter4['granted'] = carter4['grantedP'] + carter4['grantedC'] + carter4['grantedR']\n",
    "\n",
    "carter4 = carter4.drop(['grantedP','grantedC','grantedR'], axis=1)\n",
    "\n",
    "carter4['president'] = 'carter'\n",
    "\n",
    "print(carter4)"
   ]
  },
  {
   "cell_type": "code",
   "execution_count": 35,
   "metadata": {},
   "outputs": [
    {
     "name": "stdout",
     "output_type": "stream",
     "text": [
      "               year  granted president\n",
      "2   1981 (8.5 mos.)        2    reagan\n",
      "3              1982       86    reagan\n",
      "4              1983       93    reagan\n",
      "5              1984       42    reagan\n",
      "6              1985       35    reagan\n",
      "7              1986       55    reagan\n",
      "8              1987       23    reagan\n",
      "9              1988       38    reagan\n",
      "10  1989 (3.5 mos.)       32    reagan\n"
     ]
    }
   ],
   "source": [
    "# REAGAN\n",
    "reagan4 = tables[15]\n",
    "reagan4 = reagan4[2:] # take out first two rows with dirty column names\n",
    "reagan4 = reagan4[:9]\n",
    "\n",
    "reagan4.columns = ['year','pendingP','pendingC','receivedP','receivedC','grantedP','grantedC','grantedR','deniedP','deniedC','closedP','closedC']\n",
    "reagan4 = reagan4.drop(['pendingP','pendingC','receivedP','receivedC','deniedP','deniedC','closedP','closedC'], axis=1)\n",
    "\n",
    "reagan4[['grantedP','grantedC','grantedR']] = reagan4[['grantedP','grantedC','grantedR']].apply(pd.to_numeric)\n",
    "reagan4['granted'] = reagan4['grantedP'] + reagan4['grantedC'] + reagan4['grantedR']\n",
    "\n",
    "reagan4 = reagan4.drop(['grantedP','grantedC','grantedR'], axis=1)\n",
    "\n",
    "reagan4['president'] = 'reagan'\n",
    "\n",
    "print(reagan4)"
   ]
  },
  {
   "cell_type": "code",
   "execution_count": 36,
   "metadata": {},
   "outputs": [
    {
     "name": "stdout",
     "output_type": "stream",
     "text": [
      "              year  granted president\n",
      "2  1989 (8.5 mos.)       10    hwbush\n",
      "3             1990        0    hwbush\n",
      "4             1991       29    hwbush\n",
      "5             1992        0    hwbush\n",
      "6  1993 (3.5 mos.)       38    hwbush\n"
     ]
    }
   ],
   "source": [
    "# H.W. BUSH\n",
    "hwbush4 = tables[16]\n",
    "hwbush4 = hwbush4[2:] # take out first two rows with dirty column names\n",
    "hwbush4 = hwbush4[:5]\n",
    "\n",
    "hwbush4.columns = ['year','pendingP','pendingC','receivedP','receivedC','grantedP','grantedC','grantedR','deniedP','deniedC','closedP','closedC']\n",
    "hwbush4 = hwbush4.drop(['pendingP','pendingC','receivedP','receivedC','deniedP','deniedC','closedP','closedC'], axis=1)\n",
    "\n",
    "hwbush4[['grantedP','grantedC','grantedR']] = hwbush4[['grantedP','grantedC','grantedR']].apply(pd.to_numeric)\n",
    "hwbush4['granted'] = hwbush4['grantedP'] + hwbush4['grantedC'] + hwbush4['grantedR']\n",
    "\n",
    "hwbush4 = hwbush4.drop(['grantedP','grantedC','grantedR'], axis=1)\n",
    "\n",
    "hwbush4['president'] = 'hwbush'\n",
    "\n",
    "print(hwbush4)"
   ]
  },
  {
   "cell_type": "code",
   "execution_count": 37,
   "metadata": {},
   "outputs": [
    {
     "name": "stdout",
     "output_type": "stream",
     "text": [
      "               year  granted president\n",
      "2   1993 (8.5 mos.)        0   clinton\n",
      "3              1994        0   clinton\n",
      "4              1995       56   clinton\n",
      "5              1996        0   clinton\n",
      "6              1997        0   clinton\n",
      "7              1998       21   clinton\n",
      "8              1999       48   clinton\n",
      "9              2000       76   clinton\n",
      "10  2001 (3.5 mos.)      258   clinton\n"
     ]
    }
   ],
   "source": [
    "# CLINTON\n",
    "clinton4 = tables[17]\n",
    "clinton4 = clinton4[2:] # take out first two rows with dirty column names\n",
    "clinton4 = clinton4[:9]\n",
    "\n",
    "clinton4.columns = ['year','pendingP','pendingC','receivedP','receivedC','grantedP','grantedC','grantedR','deniedP','deniedC','closedP','closedC']\n",
    "clinton4 = clinton4.drop(['pendingP','pendingC','receivedP','receivedC','deniedP','deniedC','closedP','closedC'], axis=1)\n",
    "\n",
    "clinton4[['grantedP','grantedC','grantedR']] = clinton4[['grantedP','grantedC','grantedR']].apply(pd.to_numeric)\n",
    "clinton4['granted'] = clinton4['grantedP'] + clinton4['grantedC'] + clinton4['grantedR']\n",
    "\n",
    "clinton4 = clinton4.drop(['grantedP','grantedC','grantedR'], axis=1)\n",
    "\n",
    "clinton4['president'] = 'clinton'\n",
    "\n",
    "print(clinton4)"
   ]
  },
  {
   "cell_type": "code",
   "execution_count": 38,
   "metadata": {},
   "outputs": [
    {
     "name": "stdout",
     "output_type": "stream",
     "text": [
      "               year  granted president\n",
      "2   2001 (8.5 mos.)        0      bush\n",
      "3              2002        0      bush\n",
      "4              2003        7      bush\n",
      "5              2004       14      bush\n",
      "6              2005       39      bush\n",
      "7              2006       39      bush\n",
      "8              2007       18      bush\n",
      "9              2008       46      bush\n",
      "10  2009 (3.5 mos.)       37      bush\n"
     ]
    }
   ],
   "source": [
    "# BUSH\n",
    "bush4 = tables[18]\n",
    "bush4 = bush4[2:] # take out first two rows with dirty column names\n",
    "bush4 = bush4[:9]\n",
    "\n",
    "bush4.columns = ['year','pendingP','pendingC','receivedP','receivedC','grantedP','grantedC','grantedR','deniedP','deniedC','closedP','closedC']\n",
    "bush4 = bush4.drop(['pendingP','pendingC','receivedP','receivedC','deniedP','deniedC','closedP','closedC'], axis=1)\n",
    "\n",
    "bush4[['grantedP','grantedC','grantedR']] = bush4[['grantedP','grantedC','grantedR']].apply(pd.to_numeric)\n",
    "bush4['granted'] = bush4['grantedP'] + bush4['grantedC'] + bush4['grantedR']\n",
    "\n",
    "bush4 = bush4.drop(['grantedP','grantedC','grantedR'], axis=1)\n",
    "\n",
    "bush4['president'] = 'bush'\n",
    "\n",
    "print(bush4)"
   ]
  },
  {
   "cell_type": "code",
   "execution_count": 39,
   "metadata": {},
   "outputs": [
    {
     "name": "stdout",
     "output_type": "stream",
     "text": [
      "               year  granted president\n",
      "2   2009 (8.5 mos.)        0     obama\n",
      "3              2010        0     obama\n",
      "4              2011       17     obama\n",
      "5              2012        6     obama\n",
      "6              2013       17     obama\n",
      "7              2014       22     obama\n",
      "8              2015       91     obama\n",
      "9              2016      589     obama\n",
      "10  2017 (3.5 mos.)     1185     obama\n"
     ]
    }
   ],
   "source": [
    "# OBAMA\n",
    "obama4 = tables[19]\n",
    "obama4 = obama4[2:] # take out first two rows with dirty column names\n",
    "obama4 = obama4[:9]\n",
    "\n",
    "obama4.columns = ['year','pendingP','pendingC','receivedP','receivedC','grantedP','grantedC','grantedR','deniedP','deniedC','closedP','closedC']\n",
    "obama4 = obama4.drop(['pendingP','pendingC','receivedP','receivedC','deniedP','deniedC','closedP','closedC'], axis=1)\n",
    "\n",
    "obama4[['grantedP','grantedC','grantedR']] = obama4[['grantedP','grantedC','grantedR']].apply(pd.to_numeric)\n",
    "obama4['granted'] = obama4['grantedP'] + obama4['grantedC'] + obama4['grantedR']\n",
    "\n",
    "obama4 = obama4.drop(['grantedP','grantedC','grantedR'], axis=1)\n",
    "\n",
    "obama4['president'] = 'obama'\n",
    "\n",
    "print(obama4)"
   ]
  },
  {
   "cell_type": "code",
   "execution_count": 40,
   "metadata": {},
   "outputs": [
    {
     "name": "stdout",
     "output_type": "stream",
     "text": [
      "              year  granted president\n",
      "2  2017 (8.5 mos.)        1     trump\n",
      "3    2018 (9 mos.)       10     trump\n"
     ]
    }
   ],
   "source": [
    "# TRUMP\n",
    "trump4 = tables[20]\n",
    "trump4 = trump4[2:] # take out first two rows with dirty column names\n",
    "trump4 = trump4[:2]\n",
    "trump4 = trump4.drop([3,4], axis=1) # drop extra columns in only trump's table\n",
    "\n",
    "trump4.columns = ['year','pendingP','pendingC','receivedP','receivedC','grantedP','grantedC','grantedR','deniedP','deniedC','closedP','closedC']\n",
    "trump4 = trump4.drop(['pendingP','pendingC','receivedP','receivedC','deniedP','deniedC','closedP','closedC'], axis=1)\n",
    "\n",
    "trump4[['grantedP','grantedC','grantedR']] = trump4[['grantedP','grantedC','grantedR']].apply(pd.to_numeric)\n",
    "trump4['granted'] = trump4['grantedP'] + trump4['grantedC'] + trump4['grantedR']\n",
    "\n",
    "trump4 = trump4.drop(['grantedP','grantedC','grantedR'], axis=1)\n",
    "\n",
    "trump4['president'] = 'trump'\n",
    "\n",
    "print(trump4)"
   ]
  },
  {
   "cell_type": "code",
   "execution_count": 41,
   "metadata": {},
   "outputs": [
    {
     "name": "stdout",
     "output_type": "stream",
     "text": [
      "               year  granted president\n",
      "0   1977 (8.5 mos.)        1    carter\n",
      "1              1978      165    carter\n",
      "2              1979      153    carter\n",
      "3              1980      166    carter\n",
      "4   1981 (3.5 mos.)       81    carter\n",
      "5   1981 (8.5 mos.)        2    reagan\n",
      "6              1982       86    reagan\n",
      "7              1983       93    reagan\n",
      "8              1984       42    reagan\n",
      "9              1985       35    reagan\n",
      "10             1986       55    reagan\n",
      "11             1987       23    reagan\n",
      "12             1988       38    reagan\n",
      "13  1989 (3.5 mos.)       32    reagan\n",
      "14  1989 (8.5 mos.)       10    hwbush\n",
      "15             1990        0    hwbush\n",
      "16             1991       29    hwbush\n",
      "17             1992        0    hwbush\n",
      "18  1993 (3.5 mos.)       38    hwbush\n",
      "19  1993 (8.5 mos.)        0   clinton\n",
      "20             1994        0   clinton\n",
      "21             1995       56   clinton\n",
      "22             1996        0   clinton\n",
      "23             1997        0   clinton\n",
      "24             1998       21   clinton\n",
      "25             1999       48   clinton\n",
      "26             2000       76   clinton\n",
      "27  2001 (3.5 mos.)      258   clinton\n",
      "28  2001 (8.5 mos.)        0      bush\n",
      "29             2002        0      bush\n",
      "30             2003        7      bush\n",
      "31             2004       14      bush\n",
      "32             2005       39      bush\n",
      "33             2006       39      bush\n",
      "34             2007       18      bush\n",
      "35             2008       46      bush\n",
      "36  2009 (3.5 mos.)       37      bush\n",
      "37  2009 (8.5 mos.)        0     obama\n",
      "38             2010        0     obama\n",
      "39             2011       17     obama\n",
      "40             2012        6     obama\n",
      "41             2013       17     obama\n",
      "42             2014       22     obama\n",
      "43             2015       91     obama\n",
      "44             2016      589     obama\n",
      "45  2017 (3.5 mos.)     1185     obama\n",
      "46  2017 (8.5 mos.)        1     trump\n",
      "47    2018 (9 mos.)       10     trump\n"
     ]
    }
   ],
   "source": [
    "granted_byyr = pd.concat([carter4,reagan4,hwbush4,clinton4,bush4,obama4,trump4]).reset_index().drop(['index'], axis=1)\n",
    "print(granted_byyr)"
   ]
  }
 ],
 "metadata": {
  "kernelspec": {
   "display_name": "Python 3",
   "language": "python",
   "name": "python3"
  },
  "language_info": {
   "codemirror_mode": {
    "name": "ipython",
    "version": 3
   },
   "file_extension": ".py",
   "mimetype": "text/x-python",
   "name": "python",
   "nbconvert_exporter": "python",
   "pygments_lexer": "ipython3",
   "version": "3.6.5"
  }
 },
 "nbformat": 4,
 "nbformat_minor": 2
}
